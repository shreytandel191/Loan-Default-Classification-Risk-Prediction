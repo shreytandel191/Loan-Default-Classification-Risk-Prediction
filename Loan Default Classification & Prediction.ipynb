{
 "cells": [
  {
   "cell_type": "markdown",
   "metadata": {},
   "source": [
    "# Shrey Tandel : 22020845034\n",
    "# Manish Biswas : 22020845010\n",
    "# Sumendu : 22020845033"
   ]
  },
  {
   "cell_type": "code",
   "execution_count": 1,
   "metadata": {
    "_cell_guid": "b1076dfc-b9ad-4769-8c92-a6c4dae69d19",
    "_uuid": "8f2839f25d086af736a60e9eeb907d3b93b6e0e5",
    "execution": {
     "iopub.execute_input": "2023-09-15T05:00:50.538711Z",
     "iopub.status.busy": "2023-09-15T05:00:50.538353Z",
     "iopub.status.idle": "2023-09-15T05:00:50.970143Z",
     "shell.execute_reply": "2023-09-15T05:00:50.969319Z",
     "shell.execute_reply.started": "2023-09-15T05:00:50.538681Z"
    }
   },
   "outputs": [
    {
     "name": "stdout",
     "output_type": "stream",
     "text": [
      "/kaggle/input/lending-club/accepted_2007_to_2018Q4.csv\n",
      "/kaggle/input/lending-club/rejected_2007_to_2018Q4.csv\n"
     ]
    }
   ],
   "source": [
    "# This Python 3 environment comes with many helpful analytics libraries installed\n",
    "# It is defined by the kaggle/python Docker image: https://github.com/kaggle/docker-python\n",
    "# For example, here's several helpful packages to load\n",
    "\n",
    "import numpy as np # linear algebra\n",
    "import pandas as pd # data processing, CSV file I/O (e.g. pd.read_csv)\n",
    "\n",
    "# Input data files are available in the read-only \"../input/\" directory\n",
    "# For example, running this (by clicking run or pressing Shift+Enter) will list all files under the input directory\n",
    "\n",
    "import os\n",
    "for dirname, _, filenames in os.walk('/kaggle/input'):\n",
    "    for filename in filenames:\n",
    "        print(os.path.join(dirname, filename))\n",
    "\n",
    "# You can write up to 20GB to the current directory (/kaggle/working/) that gets preserved as output when you create a version using \"Save & Run All\" \n",
    "# You can also write temporary files to /kaggle/temp/, but they won't be saved outside of the current session"
   ]
  },
  {
   "cell_type": "code",
   "execution_count": 2,
   "metadata": {
    "execution": {
     "iopub.execute_input": "2023-09-15T05:00:50.972086Z",
     "iopub.status.busy": "2023-09-15T05:00:50.971739Z",
     "iopub.status.idle": "2023-09-15T05:00:59.380237Z",
     "shell.execute_reply": "2023-09-15T05:00:59.379060Z",
     "shell.execute_reply.started": "2023-09-15T05:00:50.972060Z"
    }
   },
   "outputs": [
    {
     "name": "stdout",
     "output_type": "stream",
     "text": [
      "Requirement already satisfied: pip in /usr/local/lib/python3.8/site-packages (23.0.1)\n",
      "Collecting pip\n",
      "  Downloading pip-23.2.1-py3-none-any.whl (2.1 MB)\n",
      "\u001b[2K     \u001b[90m━━━━━━━━━━━━━━━━━━━━━━━━━━━━━━━━━━━━━━━━\u001b[0m \u001b[32m2.1/2.1 MB\u001b[0m \u001b[31m9.7 MB/s\u001b[0m eta \u001b[36m0:00:00\u001b[0m:00:01\u001b[0m0:01\u001b[0m\n",
      "\u001b[?25hInstalling collected packages: pip\n",
      "  Attempting uninstall: pip\n",
      "    Found existing installation: pip 23.0.1\n",
      "    Uninstalling pip-23.0.1:\n",
      "      Successfully uninstalled pip-23.0.1\n",
      "Successfully installed pip-23.2.1\n",
      "\u001b[33mWARNING: Running pip as the 'root' user can result in broken permissions and conflicting behaviour with the system package manager. It is recommended to use a virtual environment instead: https://pip.pypa.io/warnings/venv\u001b[0m\u001b[33m\n",
      "\u001b[0mNote: you may need to restart the kernel to use updated packages.\n"
     ]
    }
   ],
   "source": [
    "pip install --upgrade pip"
   ]
  },
  {
   "cell_type": "code",
   "execution_count": 3,
   "metadata": {
    "execution": {
     "iopub.execute_input": "2023-09-15T05:00:59.381924Z",
     "iopub.status.busy": "2023-09-15T05:00:59.381626Z",
     "iopub.status.idle": "2023-09-15T05:01:04.797216Z",
     "shell.execute_reply": "2023-09-15T05:01:04.796121Z",
     "shell.execute_reply.started": "2023-09-15T05:00:59.381892Z"
    }
   },
   "outputs": [
    {
     "name": "stdout",
     "output_type": "stream",
     "text": [
      "Collecting seaborn\n",
      "  Downloading seaborn-0.12.2-py3-none-any.whl (293 kB)\n",
      "\u001b[2K     \u001b[90m━━━━━━━━━━━━━━━━━━━━━━━━━━━━━━━━━━━━━━━\u001b[0m \u001b[32m293.3/293.3 kB\u001b[0m \u001b[31m5.4 MB/s\u001b[0m eta \u001b[36m0:00:00\u001b[0ma \u001b[36m0:00:01\u001b[0m\n",
      "\u001b[?25hRequirement already satisfied: numpy!=1.24.0,>=1.17 in /usr/local/lib/python3.8/site-packages (from seaborn) (1.23.5)\n",
      "Requirement already satisfied: pandas>=0.25 in /usr/local/lib/python3.8/site-packages (from seaborn) (2.0.3)\n",
      "Requirement already satisfied: matplotlib!=3.6.1,>=3.1 in /usr/local/lib/python3.8/site-packages (from seaborn) (3.7.2)\n",
      "Requirement already satisfied: contourpy>=1.0.1 in /usr/local/lib/python3.8/site-packages (from matplotlib!=3.6.1,>=3.1->seaborn) (1.1.0)\n",
      "Requirement already satisfied: cycler>=0.10 in /usr/local/lib/python3.8/site-packages (from matplotlib!=3.6.1,>=3.1->seaborn) (0.11.0)\n",
      "Requirement already satisfied: fonttools>=4.22.0 in /usr/local/lib/python3.8/site-packages (from matplotlib!=3.6.1,>=3.1->seaborn) (4.40.0)\n",
      "Requirement already satisfied: kiwisolver>=1.0.1 in /usr/local/lib/python3.8/site-packages (from matplotlib!=3.6.1,>=3.1->seaborn) (1.4.4)\n",
      "Requirement already satisfied: packaging>=20.0 in /usr/local/lib/python3.8/site-packages (from matplotlib!=3.6.1,>=3.1->seaborn) (23.1)\n",
      "Requirement already satisfied: pillow>=6.2.0 in /usr/local/lib/python3.8/site-packages (from matplotlib!=3.6.1,>=3.1->seaborn) (10.0.0)\n",
      "Requirement already satisfied: pyparsing<3.1,>=2.3.1 in /usr/local/lib/python3.8/site-packages (from matplotlib!=3.6.1,>=3.1->seaborn) (3.0.9)\n",
      "Requirement already satisfied: python-dateutil>=2.7 in /usr/local/lib/python3.8/site-packages (from matplotlib!=3.6.1,>=3.1->seaborn) (2.8.2)\n",
      "Requirement already satisfied: importlib-resources>=3.2.0 in /usr/local/lib/python3.8/site-packages (from matplotlib!=3.6.1,>=3.1->seaborn) (6.0.0)\n",
      "Requirement already satisfied: pytz>=2020.1 in /usr/local/lib/python3.8/site-packages (from pandas>=0.25->seaborn) (2023.3)\n",
      "Requirement already satisfied: tzdata>=2022.1 in /usr/local/lib/python3.8/site-packages (from pandas>=0.25->seaborn) (2023.3)\n",
      "Requirement already satisfied: zipp>=3.1.0 in /usr/local/lib/python3.8/site-packages (from importlib-resources>=3.2.0->matplotlib!=3.6.1,>=3.1->seaborn) (3.15.0)\n",
      "Requirement already satisfied: six>=1.5 in /usr/local/lib/python3.8/site-packages (from python-dateutil>=2.7->matplotlib!=3.6.1,>=3.1->seaborn) (1.16.0)\n",
      "Installing collected packages: seaborn\n",
      "Successfully installed seaborn-0.12.2\n",
      "\u001b[33mWARNING: Running pip as the 'root' user can result in broken permissions and conflicting behaviour with the system package manager. It is recommended to use a virtual environment instead: https://pip.pypa.io/warnings/venv\u001b[0m\u001b[33m\n",
      "\u001b[0mNote: you may need to restart the kernel to use updated packages.\n"
     ]
    }
   ],
   "source": [
    "pip install seaborn"
   ]
  },
  {
   "cell_type": "code",
   "execution_count": 90,
   "metadata": {
    "execution": {
     "iopub.execute_input": "2023-09-15T06:38:58.151001Z",
     "iopub.status.busy": "2023-09-15T06:38:58.150642Z",
     "iopub.status.idle": "2023-09-15T06:39:07.144152Z",
     "shell.execute_reply": "2023-09-15T06:39:07.142869Z",
     "shell.execute_reply.started": "2023-09-15T06:38:58.150972Z"
    }
   },
   "outputs": [
    {
     "name": "stdout",
     "output_type": "stream",
     "text": [
      "Collecting statsmodels\n",
      "  Downloading statsmodels-0.14.0-cp38-cp38-manylinux_2_17_x86_64.manylinux2014_x86_64.whl (10.2 MB)\n",
      "\u001b[2K     \u001b[90m━━━━━━━━━━━━━━━━━━━━━━━━━━━━━━━━━━━━━━━━\u001b[0m \u001b[32m10.2/10.2 MB\u001b[0m \u001b[31m47.1 MB/s\u001b[0m eta \u001b[36m0:00:00\u001b[0m00:01\u001b[0m0:01\u001b[0m\n",
      "\u001b[?25hRequirement already satisfied: numpy>=1.18 in /usr/local/lib/python3.8/site-packages (from statsmodels) (1.23.5)\n",
      "Requirement already satisfied: scipy!=1.9.2,>=1.4 in /usr/local/lib/python3.8/site-packages (from statsmodels) (1.10.1)\n",
      "Requirement already satisfied: pandas>=1.0 in /usr/local/lib/python3.8/site-packages (from statsmodels) (2.0.3)\n",
      "Collecting patsy>=0.5.2 (from statsmodels)\n",
      "  Downloading patsy-0.5.3-py2.py3-none-any.whl (233 kB)\n",
      "\u001b[2K     \u001b[90m━━━━━━━━━━━━━━━━━━━━━━━━━━━━━━━━━━━━━━\u001b[0m \u001b[32m233.8/233.8 kB\u001b[0m \u001b[31m20.9 MB/s\u001b[0m eta \u001b[36m0:00:00\u001b[0m\n",
      "\u001b[?25hRequirement already satisfied: packaging>=21.3 in /usr/local/lib/python3.8/site-packages (from statsmodels) (23.1)\n",
      "Requirement already satisfied: python-dateutil>=2.8.2 in /usr/local/lib/python3.8/site-packages (from pandas>=1.0->statsmodels) (2.8.2)\n",
      "Requirement already satisfied: pytz>=2020.1 in /usr/local/lib/python3.8/site-packages (from pandas>=1.0->statsmodels) (2023.3)\n",
      "Requirement already satisfied: tzdata>=2022.1 in /usr/local/lib/python3.8/site-packages (from pandas>=1.0->statsmodels) (2023.3)\n",
      "Requirement already satisfied: six in /usr/local/lib/python3.8/site-packages (from patsy>=0.5.2->statsmodels) (1.16.0)\n",
      "Installing collected packages: patsy, statsmodels\n",
      "Successfully installed patsy-0.5.3 statsmodels-0.14.0\n",
      "\u001b[33mWARNING: Running pip as the 'root' user can result in broken permissions and conflicting behaviour with the system package manager. It is recommended to use a virtual environment instead: https://pip.pypa.io/warnings/venv\u001b[0m\u001b[33m\n",
      "\u001b[0mNote: you may need to restart the kernel to use updated packages.\n"
     ]
    }
   ],
   "source": [
    "pip install statsmodels"
   ]
  },
  {
   "cell_type": "code",
   "execution_count": 4,
   "metadata": {
    "execution": {
     "iopub.execute_input": "2023-09-15T05:01:04.799951Z",
     "iopub.status.busy": "2023-09-15T05:01:04.799652Z",
     "iopub.status.idle": "2023-09-15T05:01:07.201736Z",
     "shell.execute_reply": "2023-09-15T05:01:07.200731Z",
     "shell.execute_reply.started": "2023-09-15T05:01:04.799922Z"
    }
   },
   "outputs": [],
   "source": [
    "import pandas as pd                # For data manipulation and analysis\n",
    "import numpy as np                 # For numerical operations\n",
    "import matplotlib.pyplot as plt   # For data visualization\n",
    "import seaborn as sns             # For enhanced data visualization\n",
    "from sklearn.model_selection import train_test_split  # For splitting the data into training and testing sets\n",
    "from sklearn.preprocessing import StandardScaler     # For feature scaling (if needed)\n",
    "from sklearn.model_selection import KFold              # For K-fold cross-validation\n",
    "from sklearn.metrics import accuracy_score, classification_report, confusion_matrix  # For model evaluation\n",
    "from sklearn.linear_model import LogisticRegression   # For logistic regression model\n",
    "from sklearn.tree import DecisionTreeClassifier       # For decision tree classifier\n",
    "from sklearn.ensemble import RandomForestClassifier   # For random forest classifier (and other ensemble methods)\n",
    "# Import other machine learning models you want to try (e.g., SVM, Gradient Boosting, etc.)\n",
    "\n",
    "# You may also need to import libraries for your linear regression model if applicable:\n",
    "from sklearn.linear_model import LinearRegression   # For linear regression"
   ]
  },
  {
   "cell_type": "code",
   "execution_count": 5,
   "metadata": {
    "execution": {
     "iopub.execute_input": "2023-09-15T05:01:07.203578Z",
     "iopub.status.busy": "2023-09-15T05:01:07.203133Z",
     "iopub.status.idle": "2023-09-15T05:02:10.115364Z",
     "shell.execute_reply": "2023-09-15T05:02:10.114522Z",
     "shell.execute_reply.started": "2023-09-15T05:01:07.203547Z"
    }
   },
   "outputs": [
    {
     "name": "stderr",
     "output_type": "stream",
     "text": [
      "/tmp/ipykernel_15/3869061036.py:7: DtypeWarning: Columns (0,19,49,59,118,129,130,131,134,135,136,139,145,146,147) have mixed types. Specify dtype option on import or set low_memory=False.\n",
      "  df = pd.read_csv(file_path)\n"
     ]
    },
    {
     "name": "stdout",
     "output_type": "stream",
     "text": [
      "         id  member_id  loan_amnt  funded_amnt  funded_amnt_inv        term  \\\n",
      "0  68407277        NaN     3600.0       3600.0           3600.0   36 months   \n",
      "1  68355089        NaN    24700.0      24700.0          24700.0   36 months   \n",
      "2  68341763        NaN    20000.0      20000.0          20000.0   60 months   \n",
      "3  66310712        NaN    35000.0      35000.0          35000.0   60 months   \n",
      "4  68476807        NaN    10400.0      10400.0          10400.0   60 months   \n",
      "\n",
      "   int_rate  installment grade sub_grade  ... hardship_payoff_balance_amount  \\\n",
      "0     13.99       123.03     C        C4  ...                            NaN   \n",
      "1     11.99       820.28     C        C1  ...                            NaN   \n",
      "2     10.78       432.66     B        B4  ...                            NaN   \n",
      "3     14.85       829.90     C        C5  ...                            NaN   \n",
      "4     22.45       289.91     F        F1  ...                            NaN   \n",
      "\n",
      "  hardship_last_payment_amount disbursement_method  debt_settlement_flag  \\\n",
      "0                          NaN                Cash                     N   \n",
      "1                          NaN                Cash                     N   \n",
      "2                          NaN                Cash                     N   \n",
      "3                          NaN                Cash                     N   \n",
      "4                          NaN                Cash                     N   \n",
      "\n",
      "  debt_settlement_flag_date settlement_status settlement_date  \\\n",
      "0                       NaN               NaN             NaN   \n",
      "1                       NaN               NaN             NaN   \n",
      "2                       NaN               NaN             NaN   \n",
      "3                       NaN               NaN             NaN   \n",
      "4                       NaN               NaN             NaN   \n",
      "\n",
      "  settlement_amount settlement_percentage settlement_term  \n",
      "0               NaN                   NaN             NaN  \n",
      "1               NaN                   NaN             NaN  \n",
      "2               NaN                   NaN             NaN  \n",
      "3               NaN                   NaN             NaN  \n",
      "4               NaN                   NaN             NaN  \n",
      "\n",
      "[5 rows x 151 columns]\n"
     ]
    }
   ],
   "source": [
    "import pandas as pd\n",
    "\n",
    "# Specify the file path to your dataset\n",
    "file_path = \"/kaggle/input/lending-club/accepted_2007_to_2018Q4.csv\"\n",
    "\n",
    "# Read the dataset into a Pandas DataFrame\n",
    "df = pd.read_csv(file_path)\n",
    "\n",
    "# Display the first few rows of the DataFrame to check if it's loaded correctly\n",
    "print(df.head())"
   ]
  },
  {
   "cell_type": "code",
   "execution_count": 6,
   "metadata": {
    "execution": {
     "iopub.execute_input": "2023-09-15T05:02:10.116868Z",
     "iopub.status.busy": "2023-09-15T05:02:10.116548Z",
     "iopub.status.idle": "2023-09-15T05:02:10.123133Z",
     "shell.execute_reply": "2023-09-15T05:02:10.122221Z",
     "shell.execute_reply.started": "2023-09-15T05:02:10.116840Z"
    }
   },
   "outputs": [
    {
     "name": "stdout",
     "output_type": "stream",
     "text": [
      "id                        object\n",
      "member_id                float64\n",
      "loan_amnt                float64\n",
      "funded_amnt              float64\n",
      "funded_amnt_inv          float64\n",
      "                          ...   \n",
      "settlement_status         object\n",
      "settlement_date           object\n",
      "settlement_amount        float64\n",
      "settlement_percentage    float64\n",
      "settlement_term          float64\n",
      "Length: 151, dtype: object\n"
     ]
    }
   ],
   "source": [
    "print(df.dtypes)"
   ]
  },
  {
   "cell_type": "code",
   "execution_count": 7,
   "metadata": {
    "execution": {
     "iopub.execute_input": "2023-09-15T05:02:10.124504Z",
     "iopub.status.busy": "2023-09-15T05:02:10.124207Z",
     "iopub.status.idle": "2023-09-15T05:02:10.141910Z",
     "shell.execute_reply": "2023-09-15T05:02:10.141062Z",
     "shell.execute_reply.started": "2023-09-15T05:02:10.124479Z"
    }
   },
   "outputs": [
    {
     "data": {
      "text/plain": [
       "151"
      ]
     },
     "execution_count": 7,
     "metadata": {},
     "output_type": "execute_result"
    }
   ],
   "source": [
    "len(df.columns)"
   ]
  },
  {
   "cell_type": "code",
   "execution_count": 8,
   "metadata": {
    "execution": {
     "iopub.execute_input": "2023-09-15T05:02:10.143319Z",
     "iopub.status.busy": "2023-09-15T05:02:10.143045Z",
     "iopub.status.idle": "2023-09-15T05:02:10.152046Z",
     "shell.execute_reply": "2023-09-15T05:02:10.151216Z",
     "shell.execute_reply.started": "2023-09-15T05:02:10.143296Z"
    }
   },
   "outputs": [],
   "source": [
    "columns_to_drop = ['member_id','desc','mths_since_last_record','verification_status_joint',\n",
    "                   'open_acc_6m','all_util','inq_last_12m','revol_bal_joint',\n",
    "                   'sec_app_fico_range_low','sec_app_fico_range_high','sec_app_earliest_cr_line',\n",
    "                   'sec_app_inq_last_6mths','sec_app_mort_acc','sec_app_open_acc','sec_app_revol_util',\n",
    "                   'sec_app_open_act_il','sec_app_num_rev_accts','sec_app_chargeoff_within_12_mths',\n",
    "                   'sec_app_collections_12_mths_ex_med','sec_app_mths_since_last_major_derog',\n",
    "                   'hardship_type','hardship_status','deferral_term','hardship_amount',\n",
    "                   'hardship_start_date','hardship_end_date','payment_plan_start_date',\n",
    "                   'hardship_length','hardship_dpd','hardship_loan_status','orig_projected_additional_accrued_interest',\n",
    "                   'hardship_payoff_balance_amount','hardship_last_payment_amount',\n",
    "                   'debt_settlement_flag_date','settlement_status','settlement_date',\n",
    "                   'settlement_amount','settlement_percentage','settlement_term','open_act_il','dti_joint','annual_inc_joint']\n",
    "\n",
    "columns_to_drop_maybe = ['title','mths_since_rcnt_il']"
   ]
  },
  {
   "cell_type": "code",
   "execution_count": 9,
   "metadata": {
    "execution": {
     "iopub.execute_input": "2023-09-15T05:02:10.153412Z",
     "iopub.status.busy": "2023-09-15T05:02:10.153115Z",
     "iopub.status.idle": "2023-09-15T05:02:11.734826Z",
     "shell.execute_reply": "2023-09-15T05:02:11.733953Z",
     "shell.execute_reply.started": "2023-09-15T05:02:10.153386Z"
    }
   },
   "outputs": [],
   "source": [
    "# List of columns to drop\n",
    "columns_to_drop = [\n",
    "    'member_id', 'desc', 'mths_since_last_record', 'verification_status_joint',\n",
    "    'open_acc_6m', 'all_util', 'inq_last_12m', 'revol_bal_joint',\n",
    "    'sec_app_fico_range_low', 'sec_app_fico_range_high', 'sec_app_earliest_cr_line',\n",
    "    'sec_app_inq_last_6mths', 'sec_app_mort_acc', 'sec_app_open_acc', 'sec_app_revol_util',\n",
    "    'sec_app_open_act_il', 'sec_app_num_rev_accts', 'sec_app_chargeoff_within_12_mths',\n",
    "    'sec_app_collections_12_mths_ex_med', 'sec_app_mths_since_last_major_derog',\n",
    "    'hardship_type', 'hardship_status', 'deferral_term', 'hardship_amount',\n",
    "    'hardship_start_date', 'hardship_end_date', 'payment_plan_start_date',\n",
    "    'hardship_length', 'hardship_dpd', 'hardship_loan_status', 'orig_projected_additional_accrued_interest',\n",
    "    'hardship_payoff_balance_amount', 'hardship_last_payment_amount',\n",
    "    'debt_settlement_flag_date', 'settlement_status', 'settlement_date',\n",
    "    'settlement_amount', 'settlement_percentage', 'settlement_term',\n",
    "    'open_act_il', 'dti_joint', 'annual_inc_joint'\n",
    "]\n",
    "\n",
    "# Drop the specified columns from the DataFrame\n",
    "df = df.drop(columns=columns_to_drop)\n"
   ]
  },
  {
   "cell_type": "code",
   "execution_count": 10,
   "metadata": {
    "execution": {
     "iopub.execute_input": "2023-09-15T05:02:11.738977Z",
     "iopub.status.busy": "2023-09-15T05:02:11.738669Z",
     "iopub.status.idle": "2023-09-15T05:02:11.744896Z",
     "shell.execute_reply": "2023-09-15T05:02:11.744102Z",
     "shell.execute_reply.started": "2023-09-15T05:02:11.738950Z"
    }
   },
   "outputs": [
    {
     "data": {
      "text/plain": [
       "109"
      ]
     },
     "execution_count": 10,
     "metadata": {},
     "output_type": "execute_result"
    }
   ],
   "source": [
    "len(df.columns)"
   ]
  },
  {
   "cell_type": "code",
   "execution_count": 11,
   "metadata": {
    "execution": {
     "iopub.execute_input": "2023-09-15T05:02:11.746219Z",
     "iopub.status.busy": "2023-09-15T05:02:11.745948Z",
     "iopub.status.idle": "2023-09-15T05:02:14.466142Z",
     "shell.execute_reply": "2023-09-15T05:02:14.465256Z",
     "shell.execute_reply.started": "2023-09-15T05:02:11.746194Z"
    }
   },
   "outputs": [],
   "source": [
    "# Separate categorical and numerical columns\n",
    "categorical_columns = df.select_dtypes(include=['object']).columns\n",
    "numerical_columns = df.select_dtypes(exclude=['object']).columns\n",
    "\n",
    "# Create the categorical DataFrame\n",
    "categorical_df = df[categorical_columns]\n",
    "\n",
    "# Create the numerical DataFrame\n",
    "numerical_df = df[numerical_columns]"
   ]
  },
  {
   "cell_type": "code",
   "execution_count": 12,
   "metadata": {
    "execution": {
     "iopub.execute_input": "2023-09-15T05:02:14.467733Z",
     "iopub.status.busy": "2023-09-15T05:02:14.467384Z",
     "iopub.status.idle": "2023-09-15T05:02:14.473800Z",
     "shell.execute_reply": "2023-09-15T05:02:14.472989Z",
     "shell.execute_reply.started": "2023-09-15T05:02:14.467704Z"
    }
   },
   "outputs": [
    {
     "data": {
      "text/plain": [
       "26"
      ]
     },
     "execution_count": 12,
     "metadata": {},
     "output_type": "execute_result"
    }
   ],
   "source": [
    "len(categorical_df.columns)"
   ]
  },
  {
   "cell_type": "code",
   "execution_count": 13,
   "metadata": {
    "execution": {
     "iopub.execute_input": "2023-09-15T05:02:14.475133Z",
     "iopub.status.busy": "2023-09-15T05:02:14.474858Z",
     "iopub.status.idle": "2023-09-15T05:02:14.487764Z",
     "shell.execute_reply": "2023-09-15T05:02:14.487042Z",
     "shell.execute_reply.started": "2023-09-15T05:02:14.475108Z"
    }
   },
   "outputs": [
    {
     "data": {
      "text/plain": [
       "83"
      ]
     },
     "execution_count": 13,
     "metadata": {},
     "output_type": "execute_result"
    }
   ],
   "source": [
    "len(numerical_df.columns)"
   ]
  },
  {
   "cell_type": "code",
   "execution_count": 14,
   "metadata": {
    "execution": {
     "iopub.execute_input": "2023-09-15T05:02:14.489016Z",
     "iopub.status.busy": "2023-09-15T05:02:14.488754Z",
     "iopub.status.idle": "2023-09-15T05:02:14.499163Z",
     "shell.execute_reply": "2023-09-15T05:02:14.498350Z",
     "shell.execute_reply.started": "2023-09-15T05:02:14.488993Z"
    }
   },
   "outputs": [
    {
     "data": {
      "text/plain": [
       "['id',\n",
       " 'term',\n",
       " 'grade',\n",
       " 'sub_grade',\n",
       " 'emp_title',\n",
       " 'emp_length',\n",
       " 'home_ownership',\n",
       " 'verification_status',\n",
       " 'issue_d',\n",
       " 'loan_status',\n",
       " 'pymnt_plan',\n",
       " 'url',\n",
       " 'purpose',\n",
       " 'title',\n",
       " 'zip_code',\n",
       " 'addr_state',\n",
       " 'earliest_cr_line',\n",
       " 'initial_list_status',\n",
       " 'last_pymnt_d',\n",
       " 'next_pymnt_d',\n",
       " 'last_credit_pull_d',\n",
       " 'application_type',\n",
       " 'hardship_flag',\n",
       " 'hardship_reason',\n",
       " 'disbursement_method',\n",
       " 'debt_settlement_flag']"
      ]
     },
     "execution_count": 14,
     "metadata": {},
     "output_type": "execute_result"
    }
   ],
   "source": [
    "list(categorical_df)"
   ]
  },
  {
   "cell_type": "code",
   "execution_count": 15,
   "metadata": {
    "execution": {
     "iopub.execute_input": "2023-09-15T05:02:14.500494Z",
     "iopub.status.busy": "2023-09-15T05:02:14.500191Z",
     "iopub.status.idle": "2023-09-15T05:02:14.512234Z",
     "shell.execute_reply": "2023-09-15T05:02:14.511333Z",
     "shell.execute_reply.started": "2023-09-15T05:02:14.500470Z"
    }
   },
   "outputs": [
    {
     "data": {
      "text/plain": [
       "['loan_amnt',\n",
       " 'funded_amnt',\n",
       " 'funded_amnt_inv',\n",
       " 'int_rate',\n",
       " 'installment',\n",
       " 'annual_inc',\n",
       " 'dti',\n",
       " 'delinq_2yrs',\n",
       " 'fico_range_low',\n",
       " 'fico_range_high',\n",
       " 'inq_last_6mths',\n",
       " 'mths_since_last_delinq',\n",
       " 'open_acc',\n",
       " 'pub_rec',\n",
       " 'revol_bal',\n",
       " 'revol_util',\n",
       " 'total_acc',\n",
       " 'out_prncp',\n",
       " 'out_prncp_inv',\n",
       " 'total_pymnt',\n",
       " 'total_pymnt_inv',\n",
       " 'total_rec_prncp',\n",
       " 'total_rec_int',\n",
       " 'total_rec_late_fee',\n",
       " 'recoveries',\n",
       " 'collection_recovery_fee',\n",
       " 'last_pymnt_amnt',\n",
       " 'last_fico_range_high',\n",
       " 'last_fico_range_low',\n",
       " 'collections_12_mths_ex_med',\n",
       " 'mths_since_last_major_derog',\n",
       " 'policy_code',\n",
       " 'acc_now_delinq',\n",
       " 'tot_coll_amt',\n",
       " 'tot_cur_bal',\n",
       " 'open_il_12m',\n",
       " 'open_il_24m',\n",
       " 'mths_since_rcnt_il',\n",
       " 'total_bal_il',\n",
       " 'il_util',\n",
       " 'open_rv_12m',\n",
       " 'open_rv_24m',\n",
       " 'max_bal_bc',\n",
       " 'total_rev_hi_lim',\n",
       " 'inq_fi',\n",
       " 'total_cu_tl',\n",
       " 'acc_open_past_24mths',\n",
       " 'avg_cur_bal',\n",
       " 'bc_open_to_buy',\n",
       " 'bc_util',\n",
       " 'chargeoff_within_12_mths',\n",
       " 'delinq_amnt',\n",
       " 'mo_sin_old_il_acct',\n",
       " 'mo_sin_old_rev_tl_op',\n",
       " 'mo_sin_rcnt_rev_tl_op',\n",
       " 'mo_sin_rcnt_tl',\n",
       " 'mort_acc',\n",
       " 'mths_since_recent_bc',\n",
       " 'mths_since_recent_bc_dlq',\n",
       " 'mths_since_recent_inq',\n",
       " 'mths_since_recent_revol_delinq',\n",
       " 'num_accts_ever_120_pd',\n",
       " 'num_actv_bc_tl',\n",
       " 'num_actv_rev_tl',\n",
       " 'num_bc_sats',\n",
       " 'num_bc_tl',\n",
       " 'num_il_tl',\n",
       " 'num_op_rev_tl',\n",
       " 'num_rev_accts',\n",
       " 'num_rev_tl_bal_gt_0',\n",
       " 'num_sats',\n",
       " 'num_tl_120dpd_2m',\n",
       " 'num_tl_30dpd',\n",
       " 'num_tl_90g_dpd_24m',\n",
       " 'num_tl_op_past_12m',\n",
       " 'pct_tl_nvr_dlq',\n",
       " 'percent_bc_gt_75',\n",
       " 'pub_rec_bankruptcies',\n",
       " 'tax_liens',\n",
       " 'tot_hi_cred_lim',\n",
       " 'total_bal_ex_mort',\n",
       " 'total_bc_limit',\n",
       " 'total_il_high_credit_limit']"
      ]
     },
     "execution_count": 15,
     "metadata": {},
     "output_type": "execute_result"
    }
   ],
   "source": [
    "list(numerical_df)"
   ]
  },
  {
   "cell_type": "code",
   "execution_count": 16,
   "metadata": {
    "execution": {
     "iopub.execute_input": "2023-09-15T05:02:14.513643Z",
     "iopub.status.busy": "2023-09-15T05:02:14.513371Z",
     "iopub.status.idle": "2023-09-15T05:02:44.541799Z",
     "shell.execute_reply": "2023-09-15T05:02:44.540911Z",
     "shell.execute_reply.started": "2023-09-15T05:02:14.513619Z"
    }
   },
   "outputs": [],
   "source": [
    "from sklearn.impute import SimpleImputer\n",
    "\n",
    "# Create a SimpleImputer with strategy='median'\n",
    "imputer = SimpleImputer(strategy='median')\n",
    "\n",
    "# Fit the imputer to your numerical data\n",
    "imputer.fit(numerical_df)\n",
    "\n",
    "# Transform the numerical data by replacing missing values with medians\n",
    "numerical_df_imputed = imputer.transform(numerical_df)\n",
    "\n",
    "# Convert the result back to a DataFrame\n",
    "numerical_df_imputed = pd.DataFrame(numerical_df_imputed, columns=numerical_df.columns)"
   ]
  },
  {
   "cell_type": "code",
   "execution_count": 17,
   "metadata": {
    "execution": {
     "iopub.execute_input": "2023-09-15T05:02:44.543253Z",
     "iopub.status.busy": "2023-09-15T05:02:44.542962Z",
     "iopub.status.idle": "2023-09-15T05:02:44.549189Z",
     "shell.execute_reply": "2023-09-15T05:02:44.548393Z",
     "shell.execute_reply.started": "2023-09-15T05:02:44.543228Z"
    }
   },
   "outputs": [
    {
     "data": {
      "text/plain": [
       "83"
      ]
     },
     "execution_count": 17,
     "metadata": {},
     "output_type": "execute_result"
    }
   ],
   "source": [
    "len(numerical_df_imputed.columns)"
   ]
  },
  {
   "cell_type": "code",
   "execution_count": 18,
   "metadata": {
    "execution": {
     "iopub.execute_input": "2023-09-15T05:02:44.550508Z",
     "iopub.status.busy": "2023-09-15T05:02:44.550218Z",
     "iopub.status.idle": "2023-09-15T05:02:44.565636Z",
     "shell.execute_reply": "2023-09-15T05:02:44.564801Z",
     "shell.execute_reply.started": "2023-09-15T05:02:44.550483Z"
    }
   },
   "outputs": [
    {
     "data": {
      "text/plain": [
       "26"
      ]
     },
     "execution_count": 18,
     "metadata": {},
     "output_type": "execute_result"
    }
   ],
   "source": [
    "len(categorical_df.columns)"
   ]
  },
  {
   "cell_type": "code",
   "execution_count": 19,
   "metadata": {
    "execution": {
     "iopub.execute_input": "2023-09-15T05:02:44.566981Z",
     "iopub.status.busy": "2023-09-15T05:02:44.566708Z",
     "iopub.status.idle": "2023-09-15T05:02:48.965322Z",
     "shell.execute_reply": "2023-09-15T05:02:48.964230Z",
     "shell.execute_reply.started": "2023-09-15T05:02:44.566956Z"
    }
   },
   "outputs": [
    {
     "name": "stdout",
     "output_type": "stream",
     "text": [
      "             Column Name                                  Unique Categories\n",
      "0                     id  [68407277, 68355089, 68341763, 66310712, 68476...\n",
      "1                   term                      [ 36 months,  60 months, nan]\n",
      "2                  grade                         [C, B, F, A, E, D, G, nan]\n",
      "3              sub_grade  [C4, C1, B4, C5, F1, C3, B2, B1, A2, B5, C2, E...\n",
      "4              emp_title  [leadman, Engineer, truck driver, Information ...\n",
      "5             emp_length  [10+ years, 3 years, 4 years, 6 years, 1 year,...\n",
      "6         home_ownership       [MORTGAGE, RENT, OWN, ANY, nan, NONE, OTHER]\n",
      "7    verification_status     [Not Verified, Source Verified, Verified, nan]\n",
      "8                issue_d  [Dec-2015, Nov-2015, Oct-2015, Sep-2015, Aug-2...\n",
      "9            loan_status  [Fully Paid, Current, Charged Off, In Grace Pe...\n",
      "10            pymnt_plan                                        [n, y, nan]\n",
      "11                   url  [https://lendingclub.com/browse/loanDetail.act...\n",
      "12               purpose  [debt_consolidation, small_business, home_impr...\n",
      "13                 title  [Debt consolidation, Business, nan, Major purc...\n",
      "14              zip_code  [190xx, 577xx, 605xx, 076xx, 174xx, 300xx, 550...\n",
      "15            addr_state  [PA, SD, IL, NJ, GA, MN, SC, RI, TX, NC, CA, V...\n",
      "16      earliest_cr_line  [Aug-2003, Dec-1999, Aug-2000, Sep-2008, Jun-1...\n",
      "17   initial_list_status                                        [w, f, nan]\n",
      "18          last_pymnt_d  [Jan-2019, Jun-2016, Jun-2017, Feb-2019, Jul-2...\n",
      "19          next_pymnt_d  [nan, Apr-2019, Mar-2019, Dec-2018, Sep-2018, ...\n",
      "20    last_credit_pull_d  [Mar-2019, Mar-2018, May-2017, Nov-2018, Sep-2...\n",
      "21      application_type                       [Individual, Joint App, nan]\n",
      "22         hardship_flag                                        [N, Y, nan]\n",
      "23       hardship_reason  [nan, NATURAL_DISASTER, DIVORCE, EXCESSIVE_OBL...\n",
      "24   disbursement_method                             [Cash, nan, DirectPay]\n",
      "25  debt_settlement_flag                                        [N, Y, nan]\n"
     ]
    }
   ],
   "source": [
    "# Create a list to store DataFrames for each column\n",
    "unique_categories_list = []\n",
    "\n",
    "# Loop through each column in the categorical DataFrame\n",
    "for column in categorical_df.columns:\n",
    "    unique_categories = categorical_df[column].unique()  # Get unique categories for the current column\n",
    "    unique_categories_df = pd.DataFrame({'Column Name': [column], 'Unique Categories': [unique_categories]})\n",
    "    unique_categories_list.append(unique_categories_df)\n",
    "\n",
    "# Concatenate the list of DataFrames into one DataFrame\n",
    "unique_categories_df = pd.concat(unique_categories_list, ignore_index=True)\n",
    "\n",
    "# Display the table\n",
    "print(unique_categories_df, )"
   ]
  },
  {
   "cell_type": "code",
   "execution_count": 20,
   "metadata": {
    "execution": {
     "iopub.execute_input": "2023-09-15T05:02:48.966890Z",
     "iopub.status.busy": "2023-09-15T05:02:48.966578Z",
     "iopub.status.idle": "2023-09-15T05:02:49.757744Z",
     "shell.execute_reply": "2023-09-15T05:02:49.756842Z",
     "shell.execute_reply.started": "2023-09-15T05:02:48.966862Z"
    }
   },
   "outputs": [],
   "source": [
    "# List of columns to drop\n",
    "columns_to_drop = ['url', 'id']\n",
    "\n",
    "# Drop the specified columns from the categorical DataFrame\n",
    "categorical_df = categorical_df.drop(columns=columns_to_drop)"
   ]
  },
  {
   "cell_type": "code",
   "execution_count": 21,
   "metadata": {
    "execution": {
     "iopub.execute_input": "2023-09-15T05:02:49.759254Z",
     "iopub.status.busy": "2023-09-15T05:02:49.758956Z",
     "iopub.status.idle": "2023-09-15T05:02:49.774673Z",
     "shell.execute_reply": "2023-09-15T05:02:49.773846Z",
     "shell.execute_reply.started": "2023-09-15T05:02:49.759227Z"
    }
   },
   "outputs": [
    {
     "data": {
      "text/plain": [
       "24"
      ]
     },
     "execution_count": 21,
     "metadata": {},
     "output_type": "execute_result"
    }
   ],
   "source": [
    "len(categorical_df.columns)"
   ]
  },
  {
   "cell_type": "code",
   "execution_count": 22,
   "metadata": {
    "execution": {
     "iopub.execute_input": "2023-09-15T05:02:49.776099Z",
     "iopub.status.busy": "2023-09-15T05:02:49.775794Z",
     "iopub.status.idle": "2023-09-15T05:02:52.172155Z",
     "shell.execute_reply": "2023-09-15T05:02:52.170929Z",
     "shell.execute_reply.started": "2023-09-15T05:02:49.776073Z"
    }
   },
   "outputs": [
    {
     "name": "stdout",
     "output_type": "stream",
     "text": [
      "             Column Name                                  Unique Categories\n",
      "0                   term                      [ 36 months,  60 months, nan]\n",
      "1                  grade                         [C, B, F, A, E, D, G, nan]\n",
      "2              sub_grade  [C4, C1, B4, C5, F1, C3, B2, B1, A2, B5, C2, E...\n",
      "3              emp_title  [leadman, Engineer, truck driver, Information ...\n",
      "4             emp_length  [10+ years, 3 years, 4 years, 6 years, 1 year,...\n",
      "5         home_ownership       [MORTGAGE, RENT, OWN, ANY, nan, NONE, OTHER]\n",
      "6    verification_status     [Not Verified, Source Verified, Verified, nan]\n",
      "7                issue_d  [Dec-2015, Nov-2015, Oct-2015, Sep-2015, Aug-2...\n",
      "8            loan_status  [Fully Paid, Current, Charged Off, In Grace Pe...\n",
      "9             pymnt_plan                                        [n, y, nan]\n",
      "10               purpose  [debt_consolidation, small_business, home_impr...\n",
      "11                 title  [Debt consolidation, Business, nan, Major purc...\n",
      "12              zip_code  [190xx, 577xx, 605xx, 076xx, 174xx, 300xx, 550...\n",
      "13            addr_state  [PA, SD, IL, NJ, GA, MN, SC, RI, TX, NC, CA, V...\n",
      "14      earliest_cr_line  [Aug-2003, Dec-1999, Aug-2000, Sep-2008, Jun-1...\n",
      "15   initial_list_status                                        [w, f, nan]\n",
      "16          last_pymnt_d  [Jan-2019, Jun-2016, Jun-2017, Feb-2019, Jul-2...\n",
      "17          next_pymnt_d  [nan, Apr-2019, Mar-2019, Dec-2018, Sep-2018, ...\n",
      "18    last_credit_pull_d  [Mar-2019, Mar-2018, May-2017, Nov-2018, Sep-2...\n",
      "19      application_type                       [Individual, Joint App, nan]\n",
      "20         hardship_flag                                        [N, Y, nan]\n",
      "21       hardship_reason  [nan, NATURAL_DISASTER, DIVORCE, EXCESSIVE_OBL...\n",
      "22   disbursement_method                             [Cash, nan, DirectPay]\n",
      "23  debt_settlement_flag                                        [N, Y, nan]\n"
     ]
    }
   ],
   "source": [
    "# Create a list to store DataFrames for each column\n",
    "unique_categories_list = []\n",
    "\n",
    "# Loop through each column in the categorical DataFrame\n",
    "for column in categorical_df.columns:\n",
    "    unique_categories = categorical_df[column].unique()  # Get unique categories for the current column\n",
    "    unique_categories_df = pd.DataFrame({'Column Name': [column], 'Unique Categories': [unique_categories]})\n",
    "    unique_categories_list.append(unique_categories_df)\n",
    "\n",
    "# Concatenate the list of DataFrames into one DataFrame\n",
    "unique_categories_df = pd.concat(unique_categories_list, ignore_index=True)\n",
    "\n",
    "# Display the table\n",
    "print(unique_categories_df)"
   ]
  },
  {
   "cell_type": "code",
   "execution_count": 23,
   "metadata": {
    "execution": {
     "iopub.execute_input": "2023-09-15T05:02:52.173758Z",
     "iopub.status.busy": "2023-09-15T05:02:52.173436Z",
     "iopub.status.idle": "2023-09-15T05:02:52.213270Z",
     "shell.execute_reply": "2023-09-15T05:02:52.212419Z",
     "shell.execute_reply.started": "2023-09-15T05:02:52.173728Z"
    }
   },
   "outputs": [],
   "source": [
    "nominal_df = categorical_df[['hardship_reason', 'disbursement_method']]"
   ]
  },
  {
   "cell_type": "code",
   "execution_count": 24,
   "metadata": {
    "execution": {
     "iopub.execute_input": "2023-09-15T05:02:52.214959Z",
     "iopub.status.busy": "2023-09-15T05:02:52.214629Z",
     "iopub.status.idle": "2023-09-15T05:02:52.465311Z",
     "shell.execute_reply": "2023-09-15T05:02:52.464237Z",
     "shell.execute_reply.started": "2023-09-15T05:02:52.214930Z"
    }
   },
   "outputs": [],
   "source": [
    "ordinal_df = df[['pymnt_plan','hardship_flag','debt_settlement_flag','term','grade','sub_grade','emp_length','home_ownership','verification_status','loan_status']]"
   ]
  },
  {
   "cell_type": "code",
   "execution_count": 25,
   "metadata": {
    "execution": {
     "iopub.execute_input": "2023-09-15T05:02:52.466926Z",
     "iopub.status.busy": "2023-09-15T05:02:52.466590Z",
     "iopub.status.idle": "2023-09-15T05:02:52.498021Z",
     "shell.execute_reply": "2023-09-15T05:02:52.497059Z",
     "shell.execute_reply.started": "2023-09-15T05:02:52.466896Z"
    }
   },
   "outputs": [
    {
     "data": {
      "text/html": [
       "<div>\n",
       "<style scoped>\n",
       "    .dataframe tbody tr th:only-of-type {\n",
       "        vertical-align: middle;\n",
       "    }\n",
       "\n",
       "    .dataframe tbody tr th {\n",
       "        vertical-align: top;\n",
       "    }\n",
       "\n",
       "    .dataframe thead th {\n",
       "        text-align: right;\n",
       "    }\n",
       "</style>\n",
       "<table border=\"1\" class=\"dataframe\">\n",
       "  <thead>\n",
       "    <tr style=\"text-align: right;\">\n",
       "      <th></th>\n",
       "      <th>pymnt_plan</th>\n",
       "      <th>hardship_flag</th>\n",
       "      <th>debt_settlement_flag</th>\n",
       "      <th>term</th>\n",
       "      <th>grade</th>\n",
       "      <th>sub_grade</th>\n",
       "      <th>emp_length</th>\n",
       "      <th>home_ownership</th>\n",
       "      <th>verification_status</th>\n",
       "      <th>loan_status</th>\n",
       "    </tr>\n",
       "  </thead>\n",
       "  <tbody>\n",
       "    <tr>\n",
       "      <th>0</th>\n",
       "      <td>n</td>\n",
       "      <td>N</td>\n",
       "      <td>N</td>\n",
       "      <td>36 months</td>\n",
       "      <td>C</td>\n",
       "      <td>C4</td>\n",
       "      <td>10+ years</td>\n",
       "      <td>MORTGAGE</td>\n",
       "      <td>Not Verified</td>\n",
       "      <td>Fully Paid</td>\n",
       "    </tr>\n",
       "    <tr>\n",
       "      <th>1</th>\n",
       "      <td>n</td>\n",
       "      <td>N</td>\n",
       "      <td>N</td>\n",
       "      <td>36 months</td>\n",
       "      <td>C</td>\n",
       "      <td>C1</td>\n",
       "      <td>10+ years</td>\n",
       "      <td>MORTGAGE</td>\n",
       "      <td>Not Verified</td>\n",
       "      <td>Fully Paid</td>\n",
       "    </tr>\n",
       "    <tr>\n",
       "      <th>2</th>\n",
       "      <td>n</td>\n",
       "      <td>N</td>\n",
       "      <td>N</td>\n",
       "      <td>60 months</td>\n",
       "      <td>B</td>\n",
       "      <td>B4</td>\n",
       "      <td>10+ years</td>\n",
       "      <td>MORTGAGE</td>\n",
       "      <td>Not Verified</td>\n",
       "      <td>Fully Paid</td>\n",
       "    </tr>\n",
       "    <tr>\n",
       "      <th>3</th>\n",
       "      <td>n</td>\n",
       "      <td>N</td>\n",
       "      <td>N</td>\n",
       "      <td>60 months</td>\n",
       "      <td>C</td>\n",
       "      <td>C5</td>\n",
       "      <td>10+ years</td>\n",
       "      <td>MORTGAGE</td>\n",
       "      <td>Source Verified</td>\n",
       "      <td>Current</td>\n",
       "    </tr>\n",
       "    <tr>\n",
       "      <th>4</th>\n",
       "      <td>n</td>\n",
       "      <td>N</td>\n",
       "      <td>N</td>\n",
       "      <td>60 months</td>\n",
       "      <td>F</td>\n",
       "      <td>F1</td>\n",
       "      <td>3 years</td>\n",
       "      <td>MORTGAGE</td>\n",
       "      <td>Source Verified</td>\n",
       "      <td>Fully Paid</td>\n",
       "    </tr>\n",
       "  </tbody>\n",
       "</table>\n",
       "</div>"
      ],
      "text/plain": [
       "  pymnt_plan hardship_flag debt_settlement_flag        term grade sub_grade  \\\n",
       "0          n             N                    N   36 months     C        C4   \n",
       "1          n             N                    N   36 months     C        C1   \n",
       "2          n             N                    N   60 months     B        B4   \n",
       "3          n             N                    N   60 months     C        C5   \n",
       "4          n             N                    N   60 months     F        F1   \n",
       "\n",
       "  emp_length home_ownership verification_status loan_status  \n",
       "0  10+ years       MORTGAGE        Not Verified  Fully Paid  \n",
       "1  10+ years       MORTGAGE        Not Verified  Fully Paid  \n",
       "2  10+ years       MORTGAGE        Not Verified  Fully Paid  \n",
       "3  10+ years       MORTGAGE     Source Verified     Current  \n",
       "4    3 years       MORTGAGE     Source Verified  Fully Paid  "
      ]
     },
     "execution_count": 25,
     "metadata": {},
     "output_type": "execute_result"
    }
   ],
   "source": [
    "ordinal_df.head()"
   ]
  },
  {
   "cell_type": "code",
   "execution_count": 26,
   "metadata": {
    "execution": {
     "iopub.execute_input": "2023-09-15T05:02:52.499598Z",
     "iopub.status.busy": "2023-09-15T05:02:52.499237Z",
     "iopub.status.idle": "2023-09-15T05:02:52.680781Z",
     "shell.execute_reply": "2023-09-15T05:02:52.679840Z",
     "shell.execute_reply.started": "2023-09-15T05:02:52.499568Z"
    }
   },
   "outputs": [
    {
     "name": "stdout",
     "output_type": "stream",
     "text": [
      "Column 'hardship_reason' Unique Categories:\n",
      "nan\n",
      "NATURAL_DISASTER\n",
      "DIVORCE\n",
      "EXCESSIVE_OBLIGATIONS\n",
      "DISABILITY\n",
      "UNEMPLOYMENT\n",
      "INCOME_CURTAILMENT\n",
      "REDUCED_HOURS\n",
      "MEDICAL\n",
      "FAMILY_DEATH\n",
      "\n",
      "Column 'disbursement_method' Unique Categories:\n",
      "Cash\n",
      "nan\n",
      "DirectPay\n",
      "\n"
     ]
    }
   ],
   "source": [
    "# Create a dictionary to store unique categories for each column\n",
    "unique_categories_dict = {}\n",
    "\n",
    "# Loop through each column in the nominal DataFrame\n",
    "for column in nominal_df.columns:\n",
    "    unique_categories = nominal_df[column].unique()  # Get unique categories for the current column\n",
    "    unique_categories_dict[column] = unique_categories.tolist()\n",
    "\n",
    "# Display the unique categories for each column\n",
    "for column, unique_values in unique_categories_dict.items():\n",
    "    print(f\"Column '{column}' Unique Categories:\")\n",
    "    for value in unique_values:\n",
    "        print(value)\n",
    "    print()"
   ]
  },
  {
   "cell_type": "code",
   "execution_count": 27,
   "metadata": {
    "execution": {
     "iopub.execute_input": "2023-09-15T05:02:52.682333Z",
     "iopub.status.busy": "2023-09-15T05:02:52.682004Z",
     "iopub.status.idle": "2023-09-15T05:02:53.946274Z",
     "shell.execute_reply": "2023-09-15T05:02:53.945321Z",
     "shell.execute_reply.started": "2023-09-15T05:02:52.682304Z"
    }
   },
   "outputs": [
    {
     "name": "stdout",
     "output_type": "stream",
     "text": [
      "         pymnt_plan  hardship_flag  debt_settlement_flag  term  grade  \\\n",
      "0               1.0            0.0                   2.0   0.0    2.0   \n",
      "1               1.0            0.0                   2.0   0.0    2.0   \n",
      "2               1.0            0.0                   2.0   1.0    1.0   \n",
      "3               1.0            0.0                   2.0   1.0    2.0   \n",
      "4               1.0            0.0                   2.0   1.0    5.0   \n",
      "...             ...            ...                   ...   ...    ...   \n",
      "2260696         1.0            0.0                   2.0   1.0    1.0   \n",
      "2260697         1.0            0.0                   1.0   1.0    2.0   \n",
      "2260698         1.0            0.0                   2.0   1.0    2.0   \n",
      "2260699         NaN            NaN                   NaN   NaN    NaN   \n",
      "2260700         NaN            NaN                   NaN   NaN    NaN   \n",
      "\n",
      "         sub_grade  emp_length  home_ownership  verification_status  \\\n",
      "0             13.0         0.0             2.0                  2.0   \n",
      "1             10.0         0.0             2.0                  2.0   \n",
      "2              8.0         0.0             2.0                  2.0   \n",
      "3             14.0         0.0             2.0                  1.0   \n",
      "4             25.0         7.0             2.0                  1.0   \n",
      "...            ...         ...             ...                  ...   \n",
      "2260696        7.0         1.0             2.0                  0.0   \n",
      "2260697       13.0         4.0             3.0                  2.0   \n",
      "2260698       13.0         0.0             2.0                  0.0   \n",
      "2260699        NaN         NaN             NaN                  NaN   \n",
      "2260700        NaN         NaN             NaN                  NaN   \n",
      "\n",
      "         loan_status  \n",
      "0                0.0  \n",
      "1                0.0  \n",
      "2                0.0  \n",
      "3                1.0  \n",
      "4                0.0  \n",
      "...              ...  \n",
      "2260696          1.0  \n",
      "2260697          3.0  \n",
      "2260698          1.0  \n",
      "2260699          NaN  \n",
      "2260700          NaN  \n",
      "\n",
      "[2260701 rows x 10 columns]\n"
     ]
    }
   ],
   "source": [
    "import pandas as pd\n",
    "\n",
    "# Define your ordinal mappings\n",
    "ordinal_mappings = {\n",
    "    \"pymnt_plan\": {'n': 1, 'Charged Off': 2, 'y': 0},\n",
    "    \"hardship_flag\": {'Y': 1, 'N': 0, '0.0': 0},\n",
    "    \"debt_settlement_flag\": {'Y': 1, 'N': 2, 'Cash': 0},\n",
    "    \"term\": {' 36 months': 0, ' 60 months': 1},\n",
    "    \"grade\": {'F': 5, 'E': 4, 'B': 1, 'D': 3, 'C': 2, 'A': 0, 'G': 6},\n",
    "    \"sub_grade\": {'A1': 0, 'A2': 1, 'A3': 2, 'A4': 3, 'A5': 4, 'B1': 5, 'B2': 6, 'B3': 7, 'B4': 8, 'B5': 9, 'C1': 10, 'C2': 11, 'C3': 12, 'C4': 13, 'C5': 14, 'D1': 15, 'D2': 16, 'D3': 17, 'D4': 18, 'D5': 19, 'E1': 20, 'E2': 21, 'E3': 22, 'E4': 23, 'E5': 24, 'F1': 25, 'F2': 26, 'F3': 27, 'F4': 28, 'F5': 29, 'G1': 30, 'G2': 31, 'G3': 32, 'G4': 33, 'G5': 34},\n",
    "    \"emp_length\": {'10+ years': 0, '9 years': 1, '8 years': 2, '7 years': 3, '6 years': 4, '5 years': 5, '4 years': 6, '3 years': 7, '2 years': 8, '1 year': 9, '< 1 year': 10, ' reactors\"': 0},\n",
    "    \"home_ownership\": {'OWN': 1, 'RENT': 3, '2 years': 0, 'MORTGAGE': 2, 'ANY': 3, 'OTHER': 3},\n",
    "    \"verification_status\": {'38000.0': 0, 'Verified': 0, 'Source Verified': 1, 'Not Verified': 2},\n",
    "    \"loan_status\": {'Fully Paid': 0 ,'Default': 3,'In Grace Period': 2,'Charged Off': 3,'Oct-2015': None,'Late (31-120 days)': 2,'Current': 1 ,'Late (16-30 days)': 2,'Does not meet the credit policy. Status:Fully Paid': 0,'Does not meet the credit policy. Status:Charged Off': 3}\n",
    "}\n",
    "\n",
    "# Encode all variables in the DataFrame 'ordinal_df' using 'ordinal_mappings'\n",
    "ordinal_df = ordinal_df.apply(lambda x: x.map(ordinal_mappings.get(x.name, x)))\n",
    "\n",
    "# Show the encoded DataFrame\n",
    "print(ordinal_df)"
   ]
  },
  {
   "cell_type": "code",
   "execution_count": 28,
   "metadata": {
    "execution": {
     "iopub.execute_input": "2023-09-15T05:02:53.954544Z",
     "iopub.status.busy": "2023-09-15T05:02:53.954174Z",
     "iopub.status.idle": "2023-09-15T05:02:53.961767Z",
     "shell.execute_reply": "2023-09-15T05:02:53.960856Z",
     "shell.execute_reply.started": "2023-09-15T05:02:53.954512Z"
    }
   },
   "outputs": [
    {
     "data": {
      "text/plain": [
       "pymnt_plan              float64\n",
       "hardship_flag           float64\n",
       "debt_settlement_flag    float64\n",
       "term                    float64\n",
       "grade                   float64\n",
       "sub_grade               float64\n",
       "emp_length              float64\n",
       "home_ownership          float64\n",
       "verification_status     float64\n",
       "loan_status             float64\n",
       "dtype: object"
      ]
     },
     "execution_count": 28,
     "metadata": {},
     "output_type": "execute_result"
    }
   ],
   "source": [
    "ordinal_df.dtypes"
   ]
  },
  {
   "cell_type": "code",
   "execution_count": 29,
   "metadata": {
    "execution": {
     "iopub.execute_input": "2023-09-15T05:02:53.963156Z",
     "iopub.status.busy": "2023-09-15T05:02:53.962859Z",
     "iopub.status.idle": "2023-09-15T05:02:53.977694Z",
     "shell.execute_reply": "2023-09-15T05:02:53.976888Z",
     "shell.execute_reply.started": "2023-09-15T05:02:53.963129Z"
    }
   },
   "outputs": [
    {
     "data": {
      "text/plain": [
       "['pymnt_plan',\n",
       " 'hardship_flag',\n",
       " 'debt_settlement_flag',\n",
       " 'term',\n",
       " 'grade',\n",
       " 'sub_grade',\n",
       " 'emp_length',\n",
       " 'home_ownership',\n",
       " 'verification_status',\n",
       " 'loan_status']"
      ]
     },
     "execution_count": 29,
     "metadata": {},
     "output_type": "execute_result"
    }
   ],
   "source": [
    "list(ordinal_df.columns)"
   ]
  },
  {
   "cell_type": "code",
   "execution_count": 30,
   "metadata": {
    "execution": {
     "iopub.execute_input": "2023-09-15T05:02:53.979049Z",
     "iopub.status.busy": "2023-09-15T05:02:53.978773Z",
     "iopub.status.idle": "2023-09-15T05:02:54.497567Z",
     "shell.execute_reply": "2023-09-15T05:02:54.496675Z",
     "shell.execute_reply.started": "2023-09-15T05:02:53.979026Z"
    }
   },
   "outputs": [
    {
     "data": {
      "text/html": [
       "<div>\n",
       "<style scoped>\n",
       "    .dataframe tbody tr th:only-of-type {\n",
       "        vertical-align: middle;\n",
       "    }\n",
       "\n",
       "    .dataframe tbody tr th {\n",
       "        vertical-align: top;\n",
       "    }\n",
       "\n",
       "    .dataframe thead th {\n",
       "        text-align: right;\n",
       "    }\n",
       "</style>\n",
       "<table border=\"1\" class=\"dataframe\">\n",
       "  <thead>\n",
       "    <tr style=\"text-align: right;\">\n",
       "      <th></th>\n",
       "      <th>pymnt_plan</th>\n",
       "      <th>hardship_flag</th>\n",
       "      <th>debt_settlement_flag</th>\n",
       "      <th>term</th>\n",
       "      <th>grade</th>\n",
       "      <th>sub_grade</th>\n",
       "      <th>emp_length</th>\n",
       "      <th>home_ownership</th>\n",
       "      <th>verification_status</th>\n",
       "      <th>loan_status</th>\n",
       "    </tr>\n",
       "  </thead>\n",
       "  <tbody>\n",
       "    <tr>\n",
       "      <th>0</th>\n",
       "      <td>1.0</td>\n",
       "      <td>0.0</td>\n",
       "      <td>2.0</td>\n",
       "      <td>0.0</td>\n",
       "      <td>2.0</td>\n",
       "      <td>13.0</td>\n",
       "      <td>0.0</td>\n",
       "      <td>2.0</td>\n",
       "      <td>2.0</td>\n",
       "      <td>0.0</td>\n",
       "    </tr>\n",
       "    <tr>\n",
       "      <th>1</th>\n",
       "      <td>1.0</td>\n",
       "      <td>0.0</td>\n",
       "      <td>2.0</td>\n",
       "      <td>0.0</td>\n",
       "      <td>2.0</td>\n",
       "      <td>10.0</td>\n",
       "      <td>0.0</td>\n",
       "      <td>2.0</td>\n",
       "      <td>2.0</td>\n",
       "      <td>0.0</td>\n",
       "    </tr>\n",
       "    <tr>\n",
       "      <th>2</th>\n",
       "      <td>1.0</td>\n",
       "      <td>0.0</td>\n",
       "      <td>2.0</td>\n",
       "      <td>1.0</td>\n",
       "      <td>1.0</td>\n",
       "      <td>8.0</td>\n",
       "      <td>0.0</td>\n",
       "      <td>2.0</td>\n",
       "      <td>2.0</td>\n",
       "      <td>0.0</td>\n",
       "    </tr>\n",
       "    <tr>\n",
       "      <th>3</th>\n",
       "      <td>1.0</td>\n",
       "      <td>0.0</td>\n",
       "      <td>2.0</td>\n",
       "      <td>1.0</td>\n",
       "      <td>2.0</td>\n",
       "      <td>14.0</td>\n",
       "      <td>0.0</td>\n",
       "      <td>2.0</td>\n",
       "      <td>1.0</td>\n",
       "      <td>1.0</td>\n",
       "    </tr>\n",
       "    <tr>\n",
       "      <th>4</th>\n",
       "      <td>1.0</td>\n",
       "      <td>0.0</td>\n",
       "      <td>2.0</td>\n",
       "      <td>1.0</td>\n",
       "      <td>5.0</td>\n",
       "      <td>25.0</td>\n",
       "      <td>7.0</td>\n",
       "      <td>2.0</td>\n",
       "      <td>1.0</td>\n",
       "      <td>0.0</td>\n",
       "    </tr>\n",
       "  </tbody>\n",
       "</table>\n",
       "</div>"
      ],
      "text/plain": [
       "   pymnt_plan  hardship_flag  debt_settlement_flag  term  grade  sub_grade  \\\n",
       "0         1.0            0.0                   2.0   0.0    2.0       13.0   \n",
       "1         1.0            0.0                   2.0   0.0    2.0       10.0   \n",
       "2         1.0            0.0                   2.0   1.0    1.0        8.0   \n",
       "3         1.0            0.0                   2.0   1.0    2.0       14.0   \n",
       "4         1.0            0.0                   2.0   1.0    5.0       25.0   \n",
       "\n",
       "   emp_length  home_ownership  verification_status  loan_status  \n",
       "0         0.0             2.0                  2.0          0.0  \n",
       "1         0.0             2.0                  2.0          0.0  \n",
       "2         0.0             2.0                  2.0          0.0  \n",
       "3         0.0             2.0                  1.0          1.0  \n",
       "4         7.0             2.0                  1.0          0.0  "
      ]
     },
     "execution_count": 30,
     "metadata": {},
     "output_type": "execute_result"
    }
   ],
   "source": [
    "# Impute missing values in all columns of 'ordinal_df' using 'mode' (most frequent) method\n",
    "ordinal_df = ordinal_df.fillna(ordinal_df.mode().iloc[0])\n",
    "\n",
    "# Show the DataFrame after imputation\n",
    "ordinal_df.head()"
   ]
  },
  {
   "cell_type": "code",
   "execution_count": 31,
   "metadata": {
    "execution": {
     "iopub.execute_input": "2023-09-15T05:02:54.499100Z",
     "iopub.status.busy": "2023-09-15T05:02:54.498802Z",
     "iopub.status.idle": "2023-09-15T05:02:54.525909Z",
     "shell.execute_reply": "2023-09-15T05:02:54.524985Z",
     "shell.execute_reply.started": "2023-09-15T05:02:54.499073Z"
    }
   },
   "outputs": [
    {
     "name": "stdout",
     "output_type": "stream",
     "text": [
      "            Column Name Missing Values\n",
      "0            pymnt_plan             no\n",
      "1         hardship_flag             no\n",
      "2  debt_settlement_flag             no\n",
      "3                  term             no\n",
      "4                 grade             no\n",
      "5             sub_grade             no\n",
      "6            emp_length             no\n",
      "7        home_ownership             no\n",
      "8   verification_status             no\n",
      "9           loan_status             no\n"
     ]
    }
   ],
   "source": [
    "# Check for missing values in each column of 'ordinal_df' and create a table\n",
    "missing_status = ordinal_df.isnull().any()\n",
    "missing_status = missing_status.apply(lambda x: 'yes' if x else 'no')\n",
    "\n",
    "# Create a DataFrame to display the missing status\n",
    "missing_status_df = pd.DataFrame({'Column Name': missing_status.index, 'Missing Values': missing_status.values})\n",
    "\n",
    "# Display the table\n",
    "print(missing_status_df)"
   ]
  },
  {
   "cell_type": "code",
   "execution_count": 32,
   "metadata": {
    "execution": {
     "iopub.execute_input": "2023-09-15T05:02:54.527435Z",
     "iopub.status.busy": "2023-09-15T05:02:54.527034Z",
     "iopub.status.idle": "2023-09-15T05:02:55.030125Z",
     "shell.execute_reply": "2023-09-15T05:02:55.029316Z",
     "shell.execute_reply.started": "2023-09-15T05:02:54.527408Z"
    }
   },
   "outputs": [
    {
     "data": {
      "text/html": [
       "<div>\n",
       "<style scoped>\n",
       "    .dataframe tbody tr th:only-of-type {\n",
       "        vertical-align: middle;\n",
       "    }\n",
       "\n",
       "    .dataframe tbody tr th {\n",
       "        vertical-align: top;\n",
       "    }\n",
       "\n",
       "    .dataframe thead th {\n",
       "        text-align: right;\n",
       "    }\n",
       "</style>\n",
       "<table border=\"1\" class=\"dataframe\">\n",
       "  <thead>\n",
       "    <tr style=\"text-align: right;\">\n",
       "      <th></th>\n",
       "      <th>hardship_reason</th>\n",
       "      <th>disbursement_method</th>\n",
       "    </tr>\n",
       "  </thead>\n",
       "  <tbody>\n",
       "    <tr>\n",
       "      <th>0</th>\n",
       "      <td>NATURAL_DISASTER</td>\n",
       "      <td>Cash</td>\n",
       "    </tr>\n",
       "    <tr>\n",
       "      <th>1</th>\n",
       "      <td>NATURAL_DISASTER</td>\n",
       "      <td>Cash</td>\n",
       "    </tr>\n",
       "    <tr>\n",
       "      <th>2</th>\n",
       "      <td>NATURAL_DISASTER</td>\n",
       "      <td>Cash</td>\n",
       "    </tr>\n",
       "    <tr>\n",
       "      <th>3</th>\n",
       "      <td>NATURAL_DISASTER</td>\n",
       "      <td>Cash</td>\n",
       "    </tr>\n",
       "    <tr>\n",
       "      <th>4</th>\n",
       "      <td>NATURAL_DISASTER</td>\n",
       "      <td>Cash</td>\n",
       "    </tr>\n",
       "  </tbody>\n",
       "</table>\n",
       "</div>"
      ],
      "text/plain": [
       "    hardship_reason disbursement_method\n",
       "0  NATURAL_DISASTER                Cash\n",
       "1  NATURAL_DISASTER                Cash\n",
       "2  NATURAL_DISASTER                Cash\n",
       "3  NATURAL_DISASTER                Cash\n",
       "4  NATURAL_DISASTER                Cash"
      ]
     },
     "execution_count": 32,
     "metadata": {},
     "output_type": "execute_result"
    }
   ],
   "source": [
    "# Impute missing values in all columns of 'ordinal_df' using 'mode' (most frequent) method\n",
    "nominal_df = nominal_df.fillna(nominal_df.mode().iloc[0])\n",
    "\n",
    "# Show the DataFrame after imputation\n",
    "nominal_df.head()"
   ]
  },
  {
   "cell_type": "code",
   "execution_count": 33,
   "metadata": {
    "execution": {
     "iopub.execute_input": "2023-09-15T05:02:55.031588Z",
     "iopub.status.busy": "2023-09-15T05:02:55.031272Z",
     "iopub.status.idle": "2023-09-15T05:02:55.533851Z",
     "shell.execute_reply": "2023-09-15T05:02:55.532893Z",
     "shell.execute_reply.started": "2023-09-15T05:02:55.031560Z"
    }
   },
   "outputs": [
    {
     "name": "stdout",
     "output_type": "stream",
     "text": [
      "         hardship_reason_DISABILITY  hardship_reason_DIVORCE  \\\n",
      "0                             False                    False   \n",
      "1                             False                    False   \n",
      "2                             False                    False   \n",
      "3                             False                    False   \n",
      "4                             False                    False   \n",
      "...                             ...                      ...   \n",
      "2260696                       False                    False   \n",
      "2260697                       False                    False   \n",
      "2260698                       False                    False   \n",
      "2260699                       False                    False   \n",
      "2260700                       False                    False   \n",
      "\n",
      "         hardship_reason_EXCESSIVE_OBLIGATIONS  hardship_reason_FAMILY_DEATH  \\\n",
      "0                                        False                         False   \n",
      "1                                        False                         False   \n",
      "2                                        False                         False   \n",
      "3                                        False                         False   \n",
      "4                                        False                         False   \n",
      "...                                        ...                           ...   \n",
      "2260696                                  False                         False   \n",
      "2260697                                  False                         False   \n",
      "2260698                                  False                         False   \n",
      "2260699                                  False                         False   \n",
      "2260700                                  False                         False   \n",
      "\n",
      "         hardship_reason_INCOME_CURTAILMENT  hardship_reason_MEDICAL  \\\n",
      "0                                     False                    False   \n",
      "1                                     False                    False   \n",
      "2                                     False                    False   \n",
      "3                                     False                    False   \n",
      "4                                     False                    False   \n",
      "...                                     ...                      ...   \n",
      "2260696                               False                    False   \n",
      "2260697                               False                    False   \n",
      "2260698                               False                    False   \n",
      "2260699                               False                    False   \n",
      "2260700                               False                    False   \n",
      "\n",
      "         hardship_reason_NATURAL_DISASTER  hardship_reason_REDUCED_HOURS  \\\n",
      "0                                    True                          False   \n",
      "1                                    True                          False   \n",
      "2                                    True                          False   \n",
      "3                                    True                          False   \n",
      "4                                    True                          False   \n",
      "...                                   ...                            ...   \n",
      "2260696                              True                          False   \n",
      "2260697                              True                          False   \n",
      "2260698                              True                          False   \n",
      "2260699                              True                          False   \n",
      "2260700                              True                          False   \n",
      "\n",
      "         hardship_reason_UNEMPLOYMENT  disbursement_method_Cash  \\\n",
      "0                               False                      True   \n",
      "1                               False                      True   \n",
      "2                               False                      True   \n",
      "3                               False                      True   \n",
      "4                               False                      True   \n",
      "...                               ...                       ...   \n",
      "2260696                         False                      True   \n",
      "2260697                         False                      True   \n",
      "2260698                         False                      True   \n",
      "2260699                         False                      True   \n",
      "2260700                         False                      True   \n",
      "\n",
      "         disbursement_method_DirectPay  \n",
      "0                                False  \n",
      "1                                False  \n",
      "2                                False  \n",
      "3                                False  \n",
      "4                                False  \n",
      "...                                ...  \n",
      "2260696                          False  \n",
      "2260697                          False  \n",
      "2260698                          False  \n",
      "2260699                          False  \n",
      "2260700                          False  \n",
      "\n",
      "[2260701 rows x 11 columns]\n"
     ]
    }
   ],
   "source": [
    "import pandas as pd\n",
    "\n",
    "# Assuming you have the DataFrame 'nominal_df' with categorical columns\n",
    "\n",
    "# Get dummy variables for categorical columns in 'nominal_df'\n",
    "nominal_df = pd.get_dummies(nominal_df, columns= nominal_df.columns)  \n",
    "\n",
    "# Display the DataFrame with dummy variables\n",
    "print(nominal_df)\n"
   ]
  },
  {
   "cell_type": "code",
   "execution_count": 34,
   "metadata": {
    "execution": {
     "iopub.execute_input": "2023-09-15T05:02:55.535552Z",
     "iopub.status.busy": "2023-09-15T05:02:55.535177Z",
     "iopub.status.idle": "2023-09-15T05:02:55.550858Z",
     "shell.execute_reply": "2023-09-15T05:02:55.550009Z",
     "shell.execute_reply.started": "2023-09-15T05:02:55.535519Z"
    }
   },
   "outputs": [
    {
     "data": {
      "text/html": [
       "<div>\n",
       "<style scoped>\n",
       "    .dataframe tbody tr th:only-of-type {\n",
       "        vertical-align: middle;\n",
       "    }\n",
       "\n",
       "    .dataframe tbody tr th {\n",
       "        vertical-align: top;\n",
       "    }\n",
       "\n",
       "    .dataframe thead th {\n",
       "        text-align: right;\n",
       "    }\n",
       "</style>\n",
       "<table border=\"1\" class=\"dataframe\">\n",
       "  <thead>\n",
       "    <tr style=\"text-align: right;\">\n",
       "      <th></th>\n",
       "      <th>hardship_reason_DISABILITY</th>\n",
       "      <th>hardship_reason_DIVORCE</th>\n",
       "      <th>hardship_reason_EXCESSIVE_OBLIGATIONS</th>\n",
       "      <th>hardship_reason_FAMILY_DEATH</th>\n",
       "      <th>hardship_reason_INCOME_CURTAILMENT</th>\n",
       "      <th>hardship_reason_MEDICAL</th>\n",
       "      <th>hardship_reason_NATURAL_DISASTER</th>\n",
       "      <th>hardship_reason_REDUCED_HOURS</th>\n",
       "      <th>hardship_reason_UNEMPLOYMENT</th>\n",
       "      <th>disbursement_method_Cash</th>\n",
       "      <th>disbursement_method_DirectPay</th>\n",
       "    </tr>\n",
       "  </thead>\n",
       "  <tbody>\n",
       "    <tr>\n",
       "      <th>0</th>\n",
       "      <td>False</td>\n",
       "      <td>False</td>\n",
       "      <td>False</td>\n",
       "      <td>False</td>\n",
       "      <td>False</td>\n",
       "      <td>False</td>\n",
       "      <td>True</td>\n",
       "      <td>False</td>\n",
       "      <td>False</td>\n",
       "      <td>True</td>\n",
       "      <td>False</td>\n",
       "    </tr>\n",
       "    <tr>\n",
       "      <th>1</th>\n",
       "      <td>False</td>\n",
       "      <td>False</td>\n",
       "      <td>False</td>\n",
       "      <td>False</td>\n",
       "      <td>False</td>\n",
       "      <td>False</td>\n",
       "      <td>True</td>\n",
       "      <td>False</td>\n",
       "      <td>False</td>\n",
       "      <td>True</td>\n",
       "      <td>False</td>\n",
       "    </tr>\n",
       "    <tr>\n",
       "      <th>2</th>\n",
       "      <td>False</td>\n",
       "      <td>False</td>\n",
       "      <td>False</td>\n",
       "      <td>False</td>\n",
       "      <td>False</td>\n",
       "      <td>False</td>\n",
       "      <td>True</td>\n",
       "      <td>False</td>\n",
       "      <td>False</td>\n",
       "      <td>True</td>\n",
       "      <td>False</td>\n",
       "    </tr>\n",
       "    <tr>\n",
       "      <th>3</th>\n",
       "      <td>False</td>\n",
       "      <td>False</td>\n",
       "      <td>False</td>\n",
       "      <td>False</td>\n",
       "      <td>False</td>\n",
       "      <td>False</td>\n",
       "      <td>True</td>\n",
       "      <td>False</td>\n",
       "      <td>False</td>\n",
       "      <td>True</td>\n",
       "      <td>False</td>\n",
       "    </tr>\n",
       "    <tr>\n",
       "      <th>4</th>\n",
       "      <td>False</td>\n",
       "      <td>False</td>\n",
       "      <td>False</td>\n",
       "      <td>False</td>\n",
       "      <td>False</td>\n",
       "      <td>False</td>\n",
       "      <td>True</td>\n",
       "      <td>False</td>\n",
       "      <td>False</td>\n",
       "      <td>True</td>\n",
       "      <td>False</td>\n",
       "    </tr>\n",
       "  </tbody>\n",
       "</table>\n",
       "</div>"
      ],
      "text/plain": [
       "   hardship_reason_DISABILITY  hardship_reason_DIVORCE  \\\n",
       "0                       False                    False   \n",
       "1                       False                    False   \n",
       "2                       False                    False   \n",
       "3                       False                    False   \n",
       "4                       False                    False   \n",
       "\n",
       "   hardship_reason_EXCESSIVE_OBLIGATIONS  hardship_reason_FAMILY_DEATH  \\\n",
       "0                                  False                         False   \n",
       "1                                  False                         False   \n",
       "2                                  False                         False   \n",
       "3                                  False                         False   \n",
       "4                                  False                         False   \n",
       "\n",
       "   hardship_reason_INCOME_CURTAILMENT  hardship_reason_MEDICAL  \\\n",
       "0                               False                    False   \n",
       "1                               False                    False   \n",
       "2                               False                    False   \n",
       "3                               False                    False   \n",
       "4                               False                    False   \n",
       "\n",
       "   hardship_reason_NATURAL_DISASTER  hardship_reason_REDUCED_HOURS  \\\n",
       "0                              True                          False   \n",
       "1                              True                          False   \n",
       "2                              True                          False   \n",
       "3                              True                          False   \n",
       "4                              True                          False   \n",
       "\n",
       "   hardship_reason_UNEMPLOYMENT  disbursement_method_Cash  \\\n",
       "0                         False                      True   \n",
       "1                         False                      True   \n",
       "2                         False                      True   \n",
       "3                         False                      True   \n",
       "4                         False                      True   \n",
       "\n",
       "   disbursement_method_DirectPay  \n",
       "0                          False  \n",
       "1                          False  \n",
       "2                          False  \n",
       "3                          False  \n",
       "4                          False  "
      ]
     },
     "execution_count": 34,
     "metadata": {},
     "output_type": "execute_result"
    }
   ],
   "source": [
    "nominal_df.head()"
   ]
  },
  {
   "cell_type": "code",
   "execution_count": 35,
   "metadata": {
    "execution": {
     "iopub.execute_input": "2023-09-15T05:02:55.552223Z",
     "iopub.status.busy": "2023-09-15T05:02:55.551947Z",
     "iopub.status.idle": "2023-09-15T05:02:55.564558Z",
     "shell.execute_reply": "2023-09-15T05:02:55.563753Z",
     "shell.execute_reply.started": "2023-09-15T05:02:55.552198Z"
    }
   },
   "outputs": [
    {
     "data": {
      "text/plain": [
       "hardship_reason_DISABILITY               bool\n",
       "hardship_reason_DIVORCE                  bool\n",
       "hardship_reason_EXCESSIVE_OBLIGATIONS    bool\n",
       "hardship_reason_FAMILY_DEATH             bool\n",
       "hardship_reason_INCOME_CURTAILMENT       bool\n",
       "hardship_reason_MEDICAL                  bool\n",
       "hardship_reason_NATURAL_DISASTER         bool\n",
       "hardship_reason_REDUCED_HOURS            bool\n",
       "hardship_reason_UNEMPLOYMENT             bool\n",
       "disbursement_method_Cash                 bool\n",
       "disbursement_method_DirectPay            bool\n",
       "dtype: object"
      ]
     },
     "execution_count": 35,
     "metadata": {},
     "output_type": "execute_result"
    }
   ],
   "source": [
    "nominal_df.dtypes"
   ]
  },
  {
   "cell_type": "code",
   "execution_count": 36,
   "metadata": {
    "execution": {
     "iopub.execute_input": "2023-09-15T05:02:55.565953Z",
     "iopub.status.busy": "2023-09-15T05:02:55.565647Z",
     "iopub.status.idle": "2023-09-15T05:03:06.394127Z",
     "shell.execute_reply": "2023-09-15T05:03:06.393177Z",
     "shell.execute_reply.started": "2023-09-15T05:02:55.565926Z"
    }
   },
   "outputs": [
    {
     "data": {
      "text/html": [
       "<div>\n",
       "<style scoped>\n",
       "    .dataframe tbody tr th:only-of-type {\n",
       "        vertical-align: middle;\n",
       "    }\n",
       "\n",
       "    .dataframe tbody tr th {\n",
       "        vertical-align: top;\n",
       "    }\n",
       "\n",
       "    .dataframe thead th {\n",
       "        text-align: right;\n",
       "    }\n",
       "</style>\n",
       "<table border=\"1\" class=\"dataframe\">\n",
       "  <thead>\n",
       "    <tr style=\"text-align: right;\">\n",
       "      <th></th>\n",
       "      <th>hardship_reason_DISABILITY</th>\n",
       "      <th>hardship_reason_DIVORCE</th>\n",
       "      <th>hardship_reason_EXCESSIVE_OBLIGATIONS</th>\n",
       "      <th>hardship_reason_FAMILY_DEATH</th>\n",
       "      <th>hardship_reason_INCOME_CURTAILMENT</th>\n",
       "      <th>hardship_reason_MEDICAL</th>\n",
       "      <th>hardship_reason_NATURAL_DISASTER</th>\n",
       "      <th>hardship_reason_REDUCED_HOURS</th>\n",
       "      <th>hardship_reason_UNEMPLOYMENT</th>\n",
       "      <th>disbursement_method_Cash</th>\n",
       "      <th>disbursement_method_DirectPay</th>\n",
       "    </tr>\n",
       "  </thead>\n",
       "  <tbody>\n",
       "    <tr>\n",
       "      <th>0</th>\n",
       "      <td>0</td>\n",
       "      <td>0</td>\n",
       "      <td>0</td>\n",
       "      <td>0</td>\n",
       "      <td>0</td>\n",
       "      <td>0</td>\n",
       "      <td>1</td>\n",
       "      <td>0</td>\n",
       "      <td>0</td>\n",
       "      <td>1</td>\n",
       "      <td>0</td>\n",
       "    </tr>\n",
       "    <tr>\n",
       "      <th>1</th>\n",
       "      <td>0</td>\n",
       "      <td>0</td>\n",
       "      <td>0</td>\n",
       "      <td>0</td>\n",
       "      <td>0</td>\n",
       "      <td>0</td>\n",
       "      <td>1</td>\n",
       "      <td>0</td>\n",
       "      <td>0</td>\n",
       "      <td>1</td>\n",
       "      <td>0</td>\n",
       "    </tr>\n",
       "    <tr>\n",
       "      <th>2</th>\n",
       "      <td>0</td>\n",
       "      <td>0</td>\n",
       "      <td>0</td>\n",
       "      <td>0</td>\n",
       "      <td>0</td>\n",
       "      <td>0</td>\n",
       "      <td>1</td>\n",
       "      <td>0</td>\n",
       "      <td>0</td>\n",
       "      <td>1</td>\n",
       "      <td>0</td>\n",
       "    </tr>\n",
       "    <tr>\n",
       "      <th>3</th>\n",
       "      <td>0</td>\n",
       "      <td>0</td>\n",
       "      <td>0</td>\n",
       "      <td>0</td>\n",
       "      <td>0</td>\n",
       "      <td>0</td>\n",
       "      <td>1</td>\n",
       "      <td>0</td>\n",
       "      <td>0</td>\n",
       "      <td>1</td>\n",
       "      <td>0</td>\n",
       "    </tr>\n",
       "    <tr>\n",
       "      <th>4</th>\n",
       "      <td>0</td>\n",
       "      <td>0</td>\n",
       "      <td>0</td>\n",
       "      <td>0</td>\n",
       "      <td>0</td>\n",
       "      <td>0</td>\n",
       "      <td>1</td>\n",
       "      <td>0</td>\n",
       "      <td>0</td>\n",
       "      <td>1</td>\n",
       "      <td>0</td>\n",
       "    </tr>\n",
       "  </tbody>\n",
       "</table>\n",
       "</div>"
      ],
      "text/plain": [
       "   hardship_reason_DISABILITY  hardship_reason_DIVORCE  \\\n",
       "0                           0                        0   \n",
       "1                           0                        0   \n",
       "2                           0                        0   \n",
       "3                           0                        0   \n",
       "4                           0                        0   \n",
       "\n",
       "   hardship_reason_EXCESSIVE_OBLIGATIONS  hardship_reason_FAMILY_DEATH  \\\n",
       "0                                      0                             0   \n",
       "1                                      0                             0   \n",
       "2                                      0                             0   \n",
       "3                                      0                             0   \n",
       "4                                      0                             0   \n",
       "\n",
       "   hardship_reason_INCOME_CURTAILMENT  hardship_reason_MEDICAL  \\\n",
       "0                                   0                        0   \n",
       "1                                   0                        0   \n",
       "2                                   0                        0   \n",
       "3                                   0                        0   \n",
       "4                                   0                        0   \n",
       "\n",
       "   hardship_reason_NATURAL_DISASTER  hardship_reason_REDUCED_HOURS  \\\n",
       "0                                 1                              0   \n",
       "1                                 1                              0   \n",
       "2                                 1                              0   \n",
       "3                                 1                              0   \n",
       "4                                 1                              0   \n",
       "\n",
       "   hardship_reason_UNEMPLOYMENT  disbursement_method_Cash  \\\n",
       "0                             0                         1   \n",
       "1                             0                         1   \n",
       "2                             0                         1   \n",
       "3                             0                         1   \n",
       "4                             0                         1   \n",
       "\n",
       "   disbursement_method_DirectPay  \n",
       "0                              0  \n",
       "1                              0  \n",
       "2                              0  \n",
       "3                              0  \n",
       "4                              0  "
      ]
     },
     "execution_count": 36,
     "metadata": {},
     "output_type": "execute_result"
    }
   ],
   "source": [
    "# Replace False with 0 and True with 1 in 'nominal_df'\n",
    "nominal_df = nominal_df.replace({False: 0, True: 1})\n",
    "\n",
    "# Display the updated DataFrame\n",
    "nominal_df.head()"
   ]
  },
  {
   "cell_type": "code",
   "execution_count": 37,
   "metadata": {
    "execution": {
     "iopub.execute_input": "2023-09-15T05:03:06.395901Z",
     "iopub.status.busy": "2023-09-15T05:03:06.395527Z",
     "iopub.status.idle": "2023-09-15T05:03:06.586823Z",
     "shell.execute_reply": "2023-09-15T05:03:06.585791Z",
     "shell.execute_reply.started": "2023-09-15T05:03:06.395868Z"
    }
   },
   "outputs": [
    {
     "name": "stdout",
     "output_type": "stream",
     "text": [
      "                   Column Name Missing Values\n",
      "0                    loan_amnt             no\n",
      "1                  funded_amnt             no\n",
      "2              funded_amnt_inv             no\n",
      "3                     int_rate             no\n",
      "4                  installment             no\n",
      "..                         ...            ...\n",
      "78                   tax_liens             no\n",
      "79             tot_hi_cred_lim             no\n",
      "80           total_bal_ex_mort             no\n",
      "81              total_bc_limit             no\n",
      "82  total_il_high_credit_limit             no\n",
      "\n",
      "[83 rows x 2 columns]\n"
     ]
    }
   ],
   "source": [
    "# Check for missing values in each column of 'ordinal_df' and create a table\n",
    "missing_status = numerical_df_imputed.isnull().any()\n",
    "missing_status = missing_status.apply(lambda x: 'yes' if x else 'no')\n",
    "\n",
    "# Create a DataFrame to display the missing status\n",
    "missing_status_df = pd.DataFrame({'Column Name': missing_status.index, 'Missing Values': missing_status.values})\n",
    "\n",
    "# Display the table\n",
    "print(missing_status_df)"
   ]
  },
  {
   "cell_type": "code",
   "execution_count": 38,
   "metadata": {
    "execution": {
     "iopub.execute_input": "2023-09-15T05:03:06.588506Z",
     "iopub.status.busy": "2023-09-15T05:03:06.588146Z",
     "iopub.status.idle": "2023-09-15T05:03:06.896203Z",
     "shell.execute_reply": "2023-09-15T05:03:06.895212Z",
     "shell.execute_reply.started": "2023-09-15T05:03:06.588473Z"
    }
   },
   "outputs": [
    {
     "data": {
      "text/html": [
       "<div>\n",
       "<style scoped>\n",
       "    .dataframe tbody tr th:only-of-type {\n",
       "        vertical-align: middle;\n",
       "    }\n",
       "\n",
       "    .dataframe tbody tr th {\n",
       "        vertical-align: top;\n",
       "    }\n",
       "\n",
       "    .dataframe thead th {\n",
       "        text-align: right;\n",
       "    }\n",
       "</style>\n",
       "<table border=\"1\" class=\"dataframe\">\n",
       "  <thead>\n",
       "    <tr style=\"text-align: right;\">\n",
       "      <th></th>\n",
       "      <th>loan_amnt</th>\n",
       "      <th>funded_amnt</th>\n",
       "      <th>funded_amnt_inv</th>\n",
       "      <th>int_rate</th>\n",
       "      <th>installment</th>\n",
       "      <th>annual_inc</th>\n",
       "      <th>dti</th>\n",
       "      <th>delinq_2yrs</th>\n",
       "      <th>fico_range_low</th>\n",
       "      <th>fico_range_high</th>\n",
       "      <th>...</th>\n",
       "      <th>num_tl_90g_dpd_24m</th>\n",
       "      <th>num_tl_op_past_12m</th>\n",
       "      <th>pct_tl_nvr_dlq</th>\n",
       "      <th>percent_bc_gt_75</th>\n",
       "      <th>pub_rec_bankruptcies</th>\n",
       "      <th>tax_liens</th>\n",
       "      <th>tot_hi_cred_lim</th>\n",
       "      <th>total_bal_ex_mort</th>\n",
       "      <th>total_bc_limit</th>\n",
       "      <th>total_il_high_credit_limit</th>\n",
       "    </tr>\n",
       "  </thead>\n",
       "  <tbody>\n",
       "    <tr>\n",
       "      <th>0</th>\n",
       "      <td>3600.0</td>\n",
       "      <td>3600.0</td>\n",
       "      <td>3600.0</td>\n",
       "      <td>13.99</td>\n",
       "      <td>123.03</td>\n",
       "      <td>55000.0</td>\n",
       "      <td>5.91</td>\n",
       "      <td>0.0</td>\n",
       "      <td>675.0</td>\n",
       "      <td>679.0</td>\n",
       "      <td>...</td>\n",
       "      <td>0.0</td>\n",
       "      <td>3.0</td>\n",
       "      <td>76.9</td>\n",
       "      <td>0.0</td>\n",
       "      <td>0.0</td>\n",
       "      <td>0.0</td>\n",
       "      <td>178050.0</td>\n",
       "      <td>7746.0</td>\n",
       "      <td>2400.0</td>\n",
       "      <td>13734.0</td>\n",
       "    </tr>\n",
       "    <tr>\n",
       "      <th>1</th>\n",
       "      <td>24700.0</td>\n",
       "      <td>24700.0</td>\n",
       "      <td>24700.0</td>\n",
       "      <td>11.99</td>\n",
       "      <td>820.28</td>\n",
       "      <td>65000.0</td>\n",
       "      <td>16.06</td>\n",
       "      <td>1.0</td>\n",
       "      <td>715.0</td>\n",
       "      <td>719.0</td>\n",
       "      <td>...</td>\n",
       "      <td>0.0</td>\n",
       "      <td>2.0</td>\n",
       "      <td>97.4</td>\n",
       "      <td>7.7</td>\n",
       "      <td>0.0</td>\n",
       "      <td>0.0</td>\n",
       "      <td>314017.0</td>\n",
       "      <td>39475.0</td>\n",
       "      <td>79300.0</td>\n",
       "      <td>24667.0</td>\n",
       "    </tr>\n",
       "    <tr>\n",
       "      <th>2</th>\n",
       "      <td>20000.0</td>\n",
       "      <td>20000.0</td>\n",
       "      <td>20000.0</td>\n",
       "      <td>10.78</td>\n",
       "      <td>432.66</td>\n",
       "      <td>63000.0</td>\n",
       "      <td>10.78</td>\n",
       "      <td>0.0</td>\n",
       "      <td>695.0</td>\n",
       "      <td>699.0</td>\n",
       "      <td>...</td>\n",
       "      <td>0.0</td>\n",
       "      <td>0.0</td>\n",
       "      <td>100.0</td>\n",
       "      <td>50.0</td>\n",
       "      <td>0.0</td>\n",
       "      <td>0.0</td>\n",
       "      <td>218418.0</td>\n",
       "      <td>18696.0</td>\n",
       "      <td>6200.0</td>\n",
       "      <td>14877.0</td>\n",
       "    </tr>\n",
       "    <tr>\n",
       "      <th>3</th>\n",
       "      <td>35000.0</td>\n",
       "      <td>35000.0</td>\n",
       "      <td>35000.0</td>\n",
       "      <td>14.85</td>\n",
       "      <td>829.90</td>\n",
       "      <td>110000.0</td>\n",
       "      <td>17.06</td>\n",
       "      <td>0.0</td>\n",
       "      <td>785.0</td>\n",
       "      <td>789.0</td>\n",
       "      <td>...</td>\n",
       "      <td>0.0</td>\n",
       "      <td>1.0</td>\n",
       "      <td>100.0</td>\n",
       "      <td>0.0</td>\n",
       "      <td>0.0</td>\n",
       "      <td>0.0</td>\n",
       "      <td>381215.0</td>\n",
       "      <td>52226.0</td>\n",
       "      <td>62500.0</td>\n",
       "      <td>18000.0</td>\n",
       "    </tr>\n",
       "    <tr>\n",
       "      <th>4</th>\n",
       "      <td>10400.0</td>\n",
       "      <td>10400.0</td>\n",
       "      <td>10400.0</td>\n",
       "      <td>22.45</td>\n",
       "      <td>289.91</td>\n",
       "      <td>104433.0</td>\n",
       "      <td>25.37</td>\n",
       "      <td>1.0</td>\n",
       "      <td>695.0</td>\n",
       "      <td>699.0</td>\n",
       "      <td>...</td>\n",
       "      <td>0.0</td>\n",
       "      <td>4.0</td>\n",
       "      <td>96.6</td>\n",
       "      <td>60.0</td>\n",
       "      <td>0.0</td>\n",
       "      <td>0.0</td>\n",
       "      <td>439570.0</td>\n",
       "      <td>95768.0</td>\n",
       "      <td>20300.0</td>\n",
       "      <td>88097.0</td>\n",
       "    </tr>\n",
       "    <tr>\n",
       "      <th>...</th>\n",
       "      <td>...</td>\n",
       "      <td>...</td>\n",
       "      <td>...</td>\n",
       "      <td>...</td>\n",
       "      <td>...</td>\n",
       "      <td>...</td>\n",
       "      <td>...</td>\n",
       "      <td>...</td>\n",
       "      <td>...</td>\n",
       "      <td>...</td>\n",
       "      <td>...</td>\n",
       "      <td>...</td>\n",
       "      <td>...</td>\n",
       "      <td>...</td>\n",
       "      <td>...</td>\n",
       "      <td>...</td>\n",
       "      <td>...</td>\n",
       "      <td>...</td>\n",
       "      <td>...</td>\n",
       "      <td>...</td>\n",
       "      <td>...</td>\n",
       "    </tr>\n",
       "    <tr>\n",
       "      <th>2260696</th>\n",
       "      <td>40000.0</td>\n",
       "      <td>40000.0</td>\n",
       "      <td>40000.0</td>\n",
       "      <td>10.49</td>\n",
       "      <td>859.56</td>\n",
       "      <td>227000.0</td>\n",
       "      <td>12.75</td>\n",
       "      <td>7.0</td>\n",
       "      <td>705.0</td>\n",
       "      <td>709.0</td>\n",
       "      <td>...</td>\n",
       "      <td>7.0</td>\n",
       "      <td>0.0</td>\n",
       "      <td>75.7</td>\n",
       "      <td>50.0</td>\n",
       "      <td>0.0</td>\n",
       "      <td>0.0</td>\n",
       "      <td>55970.0</td>\n",
       "      <td>28398.0</td>\n",
       "      <td>12300.0</td>\n",
       "      <td>42670.0</td>\n",
       "    </tr>\n",
       "    <tr>\n",
       "      <th>2260697</th>\n",
       "      <td>24000.0</td>\n",
       "      <td>24000.0</td>\n",
       "      <td>24000.0</td>\n",
       "      <td>14.49</td>\n",
       "      <td>564.56</td>\n",
       "      <td>110000.0</td>\n",
       "      <td>18.30</td>\n",
       "      <td>0.0</td>\n",
       "      <td>660.0</td>\n",
       "      <td>664.0</td>\n",
       "      <td>...</td>\n",
       "      <td>0.0</td>\n",
       "      <td>1.0</td>\n",
       "      <td>96.2</td>\n",
       "      <td>40.0</td>\n",
       "      <td>1.0</td>\n",
       "      <td>0.0</td>\n",
       "      <td>84664.0</td>\n",
       "      <td>62426.0</td>\n",
       "      <td>20700.0</td>\n",
       "      <td>58764.0</td>\n",
       "    </tr>\n",
       "    <tr>\n",
       "      <th>2260698</th>\n",
       "      <td>14000.0</td>\n",
       "      <td>14000.0</td>\n",
       "      <td>14000.0</td>\n",
       "      <td>14.49</td>\n",
       "      <td>329.33</td>\n",
       "      <td>95000.0</td>\n",
       "      <td>23.36</td>\n",
       "      <td>0.0</td>\n",
       "      <td>660.0</td>\n",
       "      <td>664.0</td>\n",
       "      <td>...</td>\n",
       "      <td>0.0</td>\n",
       "      <td>1.0</td>\n",
       "      <td>81.8</td>\n",
       "      <td>50.0</td>\n",
       "      <td>0.0</td>\n",
       "      <td>0.0</td>\n",
       "      <td>163804.0</td>\n",
       "      <td>44215.0</td>\n",
       "      <td>9500.0</td>\n",
       "      <td>34169.0</td>\n",
       "    </tr>\n",
       "    <tr>\n",
       "      <th>2260699</th>\n",
       "      <td>12900.0</td>\n",
       "      <td>12875.0</td>\n",
       "      <td>12800.0</td>\n",
       "      <td>12.62</td>\n",
       "      <td>377.99</td>\n",
       "      <td>65000.0</td>\n",
       "      <td>17.84</td>\n",
       "      <td>0.0</td>\n",
       "      <td>690.0</td>\n",
       "      <td>694.0</td>\n",
       "      <td>...</td>\n",
       "      <td>0.0</td>\n",
       "      <td>2.0</td>\n",
       "      <td>100.0</td>\n",
       "      <td>37.5</td>\n",
       "      <td>0.0</td>\n",
       "      <td>0.0</td>\n",
       "      <td>114298.5</td>\n",
       "      <td>37864.0</td>\n",
       "      <td>16300.0</td>\n",
       "      <td>32696.0</td>\n",
       "    </tr>\n",
       "    <tr>\n",
       "      <th>2260700</th>\n",
       "      <td>12900.0</td>\n",
       "      <td>12875.0</td>\n",
       "      <td>12800.0</td>\n",
       "      <td>12.62</td>\n",
       "      <td>377.99</td>\n",
       "      <td>65000.0</td>\n",
       "      <td>17.84</td>\n",
       "      <td>0.0</td>\n",
       "      <td>690.0</td>\n",
       "      <td>694.0</td>\n",
       "      <td>...</td>\n",
       "      <td>0.0</td>\n",
       "      <td>2.0</td>\n",
       "      <td>100.0</td>\n",
       "      <td>37.5</td>\n",
       "      <td>0.0</td>\n",
       "      <td>0.0</td>\n",
       "      <td>114298.5</td>\n",
       "      <td>37864.0</td>\n",
       "      <td>16300.0</td>\n",
       "      <td>32696.0</td>\n",
       "    </tr>\n",
       "  </tbody>\n",
       "</table>\n",
       "<p>2260701 rows × 83 columns</p>\n",
       "</div>"
      ],
      "text/plain": [
       "         loan_amnt  funded_amnt  funded_amnt_inv  int_rate  installment  \\\n",
       "0           3600.0       3600.0           3600.0     13.99       123.03   \n",
       "1          24700.0      24700.0          24700.0     11.99       820.28   \n",
       "2          20000.0      20000.0          20000.0     10.78       432.66   \n",
       "3          35000.0      35000.0          35000.0     14.85       829.90   \n",
       "4          10400.0      10400.0          10400.0     22.45       289.91   \n",
       "...            ...          ...              ...       ...          ...   \n",
       "2260696    40000.0      40000.0          40000.0     10.49       859.56   \n",
       "2260697    24000.0      24000.0          24000.0     14.49       564.56   \n",
       "2260698    14000.0      14000.0          14000.0     14.49       329.33   \n",
       "2260699    12900.0      12875.0          12800.0     12.62       377.99   \n",
       "2260700    12900.0      12875.0          12800.0     12.62       377.99   \n",
       "\n",
       "         annual_inc    dti  delinq_2yrs  fico_range_low  fico_range_high  ...  \\\n",
       "0           55000.0   5.91          0.0           675.0            679.0  ...   \n",
       "1           65000.0  16.06          1.0           715.0            719.0  ...   \n",
       "2           63000.0  10.78          0.0           695.0            699.0  ...   \n",
       "3          110000.0  17.06          0.0           785.0            789.0  ...   \n",
       "4          104433.0  25.37          1.0           695.0            699.0  ...   \n",
       "...             ...    ...          ...             ...              ...  ...   \n",
       "2260696    227000.0  12.75          7.0           705.0            709.0  ...   \n",
       "2260697    110000.0  18.30          0.0           660.0            664.0  ...   \n",
       "2260698     95000.0  23.36          0.0           660.0            664.0  ...   \n",
       "2260699     65000.0  17.84          0.0           690.0            694.0  ...   \n",
       "2260700     65000.0  17.84          0.0           690.0            694.0  ...   \n",
       "\n",
       "         num_tl_90g_dpd_24m  num_tl_op_past_12m  pct_tl_nvr_dlq  \\\n",
       "0                       0.0                 3.0            76.9   \n",
       "1                       0.0                 2.0            97.4   \n",
       "2                       0.0                 0.0           100.0   \n",
       "3                       0.0                 1.0           100.0   \n",
       "4                       0.0                 4.0            96.6   \n",
       "...                     ...                 ...             ...   \n",
       "2260696                 7.0                 0.0            75.7   \n",
       "2260697                 0.0                 1.0            96.2   \n",
       "2260698                 0.0                 1.0            81.8   \n",
       "2260699                 0.0                 2.0           100.0   \n",
       "2260700                 0.0                 2.0           100.0   \n",
       "\n",
       "         percent_bc_gt_75  pub_rec_bankruptcies  tax_liens  tot_hi_cred_lim  \\\n",
       "0                     0.0                   0.0        0.0         178050.0   \n",
       "1                     7.7                   0.0        0.0         314017.0   \n",
       "2                    50.0                   0.0        0.0         218418.0   \n",
       "3                     0.0                   0.0        0.0         381215.0   \n",
       "4                    60.0                   0.0        0.0         439570.0   \n",
       "...                   ...                   ...        ...              ...   \n",
       "2260696              50.0                   0.0        0.0          55970.0   \n",
       "2260697              40.0                   1.0        0.0          84664.0   \n",
       "2260698              50.0                   0.0        0.0         163804.0   \n",
       "2260699              37.5                   0.0        0.0         114298.5   \n",
       "2260700              37.5                   0.0        0.0         114298.5   \n",
       "\n",
       "         total_bal_ex_mort  total_bc_limit  total_il_high_credit_limit  \n",
       "0                   7746.0          2400.0                     13734.0  \n",
       "1                  39475.0         79300.0                     24667.0  \n",
       "2                  18696.0          6200.0                     14877.0  \n",
       "3                  52226.0         62500.0                     18000.0  \n",
       "4                  95768.0         20300.0                     88097.0  \n",
       "...                    ...             ...                         ...  \n",
       "2260696            28398.0         12300.0                     42670.0  \n",
       "2260697            62426.0         20700.0                     58764.0  \n",
       "2260698            44215.0          9500.0                     34169.0  \n",
       "2260699            37864.0         16300.0                     32696.0  \n",
       "2260700            37864.0         16300.0                     32696.0  \n",
       "\n",
       "[2260701 rows x 83 columns]"
      ]
     },
     "execution_count": 38,
     "metadata": {},
     "output_type": "execute_result"
    }
   ],
   "source": [
    "numerical_df_imputed"
   ]
  },
  {
   "cell_type": "code",
   "execution_count": 39,
   "metadata": {
    "execution": {
     "iopub.execute_input": "2023-09-15T05:03:06.897829Z",
     "iopub.status.busy": "2023-09-15T05:03:06.897519Z",
     "iopub.status.idle": "2023-09-15T05:03:07.086112Z",
     "shell.execute_reply": "2023-09-15T05:03:07.085139Z",
     "shell.execute_reply.started": "2023-09-15T05:03:06.897801Z"
    }
   },
   "outputs": [
    {
     "data": {
      "text/plain": [
       "<bound method NDFrame.head of                    Column Name Missing Values\n",
       "0                    loan_amnt             no\n",
       "1                  funded_amnt             no\n",
       "2              funded_amnt_inv             no\n",
       "3                     int_rate             no\n",
       "4                  installment             no\n",
       "..                         ...            ...\n",
       "78                   tax_liens             no\n",
       "79             tot_hi_cred_lim             no\n",
       "80           total_bal_ex_mort             no\n",
       "81              total_bc_limit             no\n",
       "82  total_il_high_credit_limit             no\n",
       "\n",
       "[83 rows x 2 columns]>"
      ]
     },
     "execution_count": 39,
     "metadata": {},
     "output_type": "execute_result"
    }
   ],
   "source": [
    "# Check for missing values in each column of 'ordinal_df' and create a table\n",
    "missing_status = numerical_df_imputed.isnull().any()\n",
    "missing_status = missing_status.apply(lambda x: 'yes' if x else 'no')\n",
    "\n",
    "# Create a DataFrame to display the missing status\n",
    "missing_status_df = pd.DataFrame({'Column Name': missing_status.index, 'Missing Values': missing_status.values})\n",
    "\n",
    "# Display the table\n",
    "missing_status_df.head"
   ]
  },
  {
   "cell_type": "code",
   "execution_count": 40,
   "metadata": {
    "execution": {
     "iopub.execute_input": "2023-09-15T05:03:07.087770Z",
     "iopub.status.busy": "2023-09-15T05:03:07.087419Z",
     "iopub.status.idle": "2023-09-15T05:03:07.600089Z",
     "shell.execute_reply": "2023-09-15T05:03:07.599218Z",
     "shell.execute_reply.started": "2023-09-15T05:03:07.087741Z"
    }
   },
   "outputs": [],
   "source": [
    "numerical_df = numerical_df_imputed.copy()"
   ]
  },
  {
   "cell_type": "code",
   "execution_count": 41,
   "metadata": {
    "execution": {
     "iopub.execute_input": "2023-09-15T05:03:07.601505Z",
     "iopub.status.busy": "2023-09-15T05:03:07.601211Z",
     "iopub.status.idle": "2023-09-15T05:03:07.608714Z",
     "shell.execute_reply": "2023-09-15T05:03:07.607976Z",
     "shell.execute_reply.started": "2023-09-15T05:03:07.601480Z"
    }
   },
   "outputs": [
    {
     "data": {
      "text/plain": [
       "loan_amnt                     float64\n",
       "funded_amnt                   float64\n",
       "funded_amnt_inv               float64\n",
       "int_rate                      float64\n",
       "installment                   float64\n",
       "                               ...   \n",
       "tax_liens                     float64\n",
       "tot_hi_cred_lim               float64\n",
       "total_bal_ex_mort             float64\n",
       "total_bc_limit                float64\n",
       "total_il_high_credit_limit    float64\n",
       "Length: 83, dtype: object"
      ]
     },
     "execution_count": 41,
     "metadata": {},
     "output_type": "execute_result"
    }
   ],
   "source": [
    "numerical_df.dtypes"
   ]
  },
  {
   "cell_type": "code",
   "execution_count": 42,
   "metadata": {
    "execution": {
     "iopub.execute_input": "2023-09-15T05:03:07.609953Z",
     "iopub.status.busy": "2023-09-15T05:03:07.609698Z",
     "iopub.status.idle": "2023-09-15T05:03:08.237772Z",
     "shell.execute_reply": "2023-09-15T05:03:08.236856Z",
     "shell.execute_reply.started": "2023-09-15T05:03:07.609930Z"
    }
   },
   "outputs": [],
   "source": [
    "cidf = pd.concat([ordinal_df, nominal_df, numerical_df], axis=1)"
   ]
  },
  {
   "cell_type": "code",
   "execution_count": 43,
   "metadata": {
    "execution": {
     "iopub.execute_input": "2023-09-15T05:03:08.239224Z",
     "iopub.status.busy": "2023-09-15T05:03:08.238937Z",
     "iopub.status.idle": "2023-09-15T05:03:08.274110Z",
     "shell.execute_reply": "2023-09-15T05:03:08.273326Z",
     "shell.execute_reply.started": "2023-09-15T05:03:08.239199Z"
    }
   },
   "outputs": [
    {
     "data": {
      "text/html": [
       "<div>\n",
       "<style scoped>\n",
       "    .dataframe tbody tr th:only-of-type {\n",
       "        vertical-align: middle;\n",
       "    }\n",
       "\n",
       "    .dataframe tbody tr th {\n",
       "        vertical-align: top;\n",
       "    }\n",
       "\n",
       "    .dataframe thead th {\n",
       "        text-align: right;\n",
       "    }\n",
       "</style>\n",
       "<table border=\"1\" class=\"dataframe\">\n",
       "  <thead>\n",
       "    <tr style=\"text-align: right;\">\n",
       "      <th></th>\n",
       "      <th>pymnt_plan</th>\n",
       "      <th>hardship_flag</th>\n",
       "      <th>debt_settlement_flag</th>\n",
       "      <th>term</th>\n",
       "      <th>grade</th>\n",
       "      <th>sub_grade</th>\n",
       "      <th>emp_length</th>\n",
       "      <th>home_ownership</th>\n",
       "      <th>verification_status</th>\n",
       "      <th>loan_status</th>\n",
       "      <th>...</th>\n",
       "      <th>num_tl_90g_dpd_24m</th>\n",
       "      <th>num_tl_op_past_12m</th>\n",
       "      <th>pct_tl_nvr_dlq</th>\n",
       "      <th>percent_bc_gt_75</th>\n",
       "      <th>pub_rec_bankruptcies</th>\n",
       "      <th>tax_liens</th>\n",
       "      <th>tot_hi_cred_lim</th>\n",
       "      <th>total_bal_ex_mort</th>\n",
       "      <th>total_bc_limit</th>\n",
       "      <th>total_il_high_credit_limit</th>\n",
       "    </tr>\n",
       "  </thead>\n",
       "  <tbody>\n",
       "    <tr>\n",
       "      <th>0</th>\n",
       "      <td>1.0</td>\n",
       "      <td>0.0</td>\n",
       "      <td>2.0</td>\n",
       "      <td>0.0</td>\n",
       "      <td>2.0</td>\n",
       "      <td>13.0</td>\n",
       "      <td>0.0</td>\n",
       "      <td>2.0</td>\n",
       "      <td>2.0</td>\n",
       "      <td>0.0</td>\n",
       "      <td>...</td>\n",
       "      <td>0.0</td>\n",
       "      <td>3.0</td>\n",
       "      <td>76.9</td>\n",
       "      <td>0.0</td>\n",
       "      <td>0.0</td>\n",
       "      <td>0.0</td>\n",
       "      <td>178050.0</td>\n",
       "      <td>7746.0</td>\n",
       "      <td>2400.0</td>\n",
       "      <td>13734.0</td>\n",
       "    </tr>\n",
       "    <tr>\n",
       "      <th>1</th>\n",
       "      <td>1.0</td>\n",
       "      <td>0.0</td>\n",
       "      <td>2.0</td>\n",
       "      <td>0.0</td>\n",
       "      <td>2.0</td>\n",
       "      <td>10.0</td>\n",
       "      <td>0.0</td>\n",
       "      <td>2.0</td>\n",
       "      <td>2.0</td>\n",
       "      <td>0.0</td>\n",
       "      <td>...</td>\n",
       "      <td>0.0</td>\n",
       "      <td>2.0</td>\n",
       "      <td>97.4</td>\n",
       "      <td>7.7</td>\n",
       "      <td>0.0</td>\n",
       "      <td>0.0</td>\n",
       "      <td>314017.0</td>\n",
       "      <td>39475.0</td>\n",
       "      <td>79300.0</td>\n",
       "      <td>24667.0</td>\n",
       "    </tr>\n",
       "    <tr>\n",
       "      <th>2</th>\n",
       "      <td>1.0</td>\n",
       "      <td>0.0</td>\n",
       "      <td>2.0</td>\n",
       "      <td>1.0</td>\n",
       "      <td>1.0</td>\n",
       "      <td>8.0</td>\n",
       "      <td>0.0</td>\n",
       "      <td>2.0</td>\n",
       "      <td>2.0</td>\n",
       "      <td>0.0</td>\n",
       "      <td>...</td>\n",
       "      <td>0.0</td>\n",
       "      <td>0.0</td>\n",
       "      <td>100.0</td>\n",
       "      <td>50.0</td>\n",
       "      <td>0.0</td>\n",
       "      <td>0.0</td>\n",
       "      <td>218418.0</td>\n",
       "      <td>18696.0</td>\n",
       "      <td>6200.0</td>\n",
       "      <td>14877.0</td>\n",
       "    </tr>\n",
       "    <tr>\n",
       "      <th>3</th>\n",
       "      <td>1.0</td>\n",
       "      <td>0.0</td>\n",
       "      <td>2.0</td>\n",
       "      <td>1.0</td>\n",
       "      <td>2.0</td>\n",
       "      <td>14.0</td>\n",
       "      <td>0.0</td>\n",
       "      <td>2.0</td>\n",
       "      <td>1.0</td>\n",
       "      <td>1.0</td>\n",
       "      <td>...</td>\n",
       "      <td>0.0</td>\n",
       "      <td>1.0</td>\n",
       "      <td>100.0</td>\n",
       "      <td>0.0</td>\n",
       "      <td>0.0</td>\n",
       "      <td>0.0</td>\n",
       "      <td>381215.0</td>\n",
       "      <td>52226.0</td>\n",
       "      <td>62500.0</td>\n",
       "      <td>18000.0</td>\n",
       "    </tr>\n",
       "    <tr>\n",
       "      <th>4</th>\n",
       "      <td>1.0</td>\n",
       "      <td>0.0</td>\n",
       "      <td>2.0</td>\n",
       "      <td>1.0</td>\n",
       "      <td>5.0</td>\n",
       "      <td>25.0</td>\n",
       "      <td>7.0</td>\n",
       "      <td>2.0</td>\n",
       "      <td>1.0</td>\n",
       "      <td>0.0</td>\n",
       "      <td>...</td>\n",
       "      <td>0.0</td>\n",
       "      <td>4.0</td>\n",
       "      <td>96.6</td>\n",
       "      <td>60.0</td>\n",
       "      <td>0.0</td>\n",
       "      <td>0.0</td>\n",
       "      <td>439570.0</td>\n",
       "      <td>95768.0</td>\n",
       "      <td>20300.0</td>\n",
       "      <td>88097.0</td>\n",
       "    </tr>\n",
       "  </tbody>\n",
       "</table>\n",
       "<p>5 rows × 104 columns</p>\n",
       "</div>"
      ],
      "text/plain": [
       "   pymnt_plan  hardship_flag  debt_settlement_flag  term  grade  sub_grade  \\\n",
       "0         1.0            0.0                   2.0   0.0    2.0       13.0   \n",
       "1         1.0            0.0                   2.0   0.0    2.0       10.0   \n",
       "2         1.0            0.0                   2.0   1.0    1.0        8.0   \n",
       "3         1.0            0.0                   2.0   1.0    2.0       14.0   \n",
       "4         1.0            0.0                   2.0   1.0    5.0       25.0   \n",
       "\n",
       "   emp_length  home_ownership  verification_status  loan_status  ...  \\\n",
       "0         0.0             2.0                  2.0          0.0  ...   \n",
       "1         0.0             2.0                  2.0          0.0  ...   \n",
       "2         0.0             2.0                  2.0          0.0  ...   \n",
       "3         0.0             2.0                  1.0          1.0  ...   \n",
       "4         7.0             2.0                  1.0          0.0  ...   \n",
       "\n",
       "   num_tl_90g_dpd_24m  num_tl_op_past_12m  pct_tl_nvr_dlq  percent_bc_gt_75  \\\n",
       "0                 0.0                 3.0            76.9               0.0   \n",
       "1                 0.0                 2.0            97.4               7.7   \n",
       "2                 0.0                 0.0           100.0              50.0   \n",
       "3                 0.0                 1.0           100.0               0.0   \n",
       "4                 0.0                 4.0            96.6              60.0   \n",
       "\n",
       "   pub_rec_bankruptcies  tax_liens  tot_hi_cred_lim  total_bal_ex_mort  \\\n",
       "0                   0.0        0.0         178050.0             7746.0   \n",
       "1                   0.0        0.0         314017.0            39475.0   \n",
       "2                   0.0        0.0         218418.0            18696.0   \n",
       "3                   0.0        0.0         381215.0            52226.0   \n",
       "4                   0.0        0.0         439570.0            95768.0   \n",
       "\n",
       "   total_bc_limit  total_il_high_credit_limit  \n",
       "0          2400.0                     13734.0  \n",
       "1         79300.0                     24667.0  \n",
       "2          6200.0                     14877.0  \n",
       "3         62500.0                     18000.0  \n",
       "4         20300.0                     88097.0  \n",
       "\n",
       "[5 rows x 104 columns]"
      ]
     },
     "execution_count": 43,
     "metadata": {},
     "output_type": "execute_result"
    }
   ],
   "source": [
    "cidf.head()"
   ]
  },
  {
   "cell_type": "code",
   "execution_count": 44,
   "metadata": {
    "execution": {
     "iopub.execute_input": "2023-09-15T05:03:08.275592Z",
     "iopub.status.busy": "2023-09-15T05:03:08.275244Z",
     "iopub.status.idle": "2023-09-15T05:03:08.283123Z",
     "shell.execute_reply": "2023-09-15T05:03:08.282315Z",
     "shell.execute_reply.started": "2023-09-15T05:03:08.275561Z"
    }
   },
   "outputs": [
    {
     "data": {
      "text/plain": [
       "(2260701, 104)"
      ]
     },
     "execution_count": 44,
     "metadata": {},
     "output_type": "execute_result"
    }
   ],
   "source": [
    "cidf.shape"
   ]
  },
  {
   "cell_type": "code",
   "execution_count": 45,
   "metadata": {
    "execution": {
     "iopub.execute_input": "2023-09-15T05:03:08.284425Z",
     "iopub.status.busy": "2023-09-15T05:03:08.284139Z",
     "iopub.status.idle": "2023-09-15T05:03:08.294727Z",
     "shell.execute_reply": "2023-09-15T05:03:08.293987Z",
     "shell.execute_reply.started": "2023-09-15T05:03:08.284401Z"
    }
   },
   "outputs": [
    {
     "data": {
      "text/plain": [
       "(2260701, 83)"
      ]
     },
     "execution_count": 45,
     "metadata": {},
     "output_type": "execute_result"
    }
   ],
   "source": [
    "numerical_df.shape"
   ]
  },
  {
   "cell_type": "code",
   "execution_count": 46,
   "metadata": {
    "execution": {
     "iopub.execute_input": "2023-09-15T05:03:08.296090Z",
     "iopub.status.busy": "2023-09-15T05:03:08.295790Z",
     "iopub.status.idle": "2023-09-15T05:03:08.305447Z",
     "shell.execute_reply": "2023-09-15T05:03:08.304659Z",
     "shell.execute_reply.started": "2023-09-15T05:03:08.296063Z"
    }
   },
   "outputs": [
    {
     "data": {
      "text/plain": [
       "(2260701, 10)"
      ]
     },
     "execution_count": 46,
     "metadata": {},
     "output_type": "execute_result"
    }
   ],
   "source": [
    "ordinal_df.shape"
   ]
  },
  {
   "cell_type": "code",
   "execution_count": 47,
   "metadata": {
    "execution": {
     "iopub.execute_input": "2023-09-15T05:03:08.307055Z",
     "iopub.status.busy": "2023-09-15T05:03:08.306753Z",
     "iopub.status.idle": "2023-09-15T05:03:08.316463Z",
     "shell.execute_reply": "2023-09-15T05:03:08.315645Z",
     "shell.execute_reply.started": "2023-09-15T05:03:08.307029Z"
    }
   },
   "outputs": [
    {
     "data": {
      "text/plain": [
       "(2260701, 11)"
      ]
     },
     "execution_count": 47,
     "metadata": {},
     "output_type": "execute_result"
    }
   ],
   "source": [
    "nominal_df.shape"
   ]
  },
  {
   "cell_type": "code",
   "execution_count": 48,
   "metadata": {
    "execution": {
     "iopub.execute_input": "2023-09-15T05:03:08.317828Z",
     "iopub.status.busy": "2023-09-15T05:03:08.317547Z",
     "iopub.status.idle": "2023-09-15T05:04:08.223983Z",
     "shell.execute_reply": "2023-09-15T05:04:08.223167Z",
     "shell.execute_reply.started": "2023-09-15T05:03:08.317804Z"
    }
   },
   "outputs": [
    {
     "name": "stdout",
     "output_type": "stream",
     "text": [
      "pymnt_plan                   -0.021061\n",
      "hardship_flag                 0.024399\n",
      "debt_settlement_flag         -0.283942\n",
      "term                          0.154337\n",
      "grade                         0.190942\n",
      "                                ...   \n",
      "tax_liens                     0.004777\n",
      "tot_hi_cred_lim              -0.047917\n",
      "total_bal_ex_mort             0.006365\n",
      "total_bc_limit               -0.032645\n",
      "total_il_high_credit_limit    0.010792\n",
      "Name: loan_status, Length: 104, dtype: float64\n"
     ]
    }
   ],
   "source": [
    "# Assuming 'target' is the name of your target variable and 'df' is your DataFrame\n",
    "target_variable = 'loan_status'\n",
    "\n",
    "# Calculate the correlation of the target variable with all independent variables\n",
    "correlations = cidf.corr()[target_variable]\n",
    "\n",
    "# Display the correlation values\n",
    "print(correlations)"
   ]
  },
  {
   "cell_type": "code",
   "execution_count": 49,
   "metadata": {
    "execution": {
     "iopub.execute_input": "2023-09-15T05:04:08.225628Z",
     "iopub.status.busy": "2023-09-15T05:04:08.225314Z",
     "iopub.status.idle": "2023-09-15T05:04:08.438553Z",
     "shell.execute_reply": "2023-09-15T05:04:08.437715Z",
     "shell.execute_reply.started": "2023-09-15T05:04:08.225592Z"
    }
   },
   "outputs": [
    {
     "name": "stdout",
     "output_type": "stream",
     "text": [
      "Columns with null values:\n",
      "Empty DataFrame\n",
      "Columns: []\n",
      "Index: [0, 1, 2, 3, 4, 5, 6, 7, 8, 9, 10, 11, 12, 13, 14, 15, 16, 17, 18, 19, 20, 21, 22, 23, 24, 25, 26, 27, 28, 29, 30, 31, 32, 33, 34, 35, 36, 37, 38, 39, 40, 41, 42, 43, 44, 45, 46, 47, 48, 49, 50, 51, 52, 53, 54, 55, 56, 57, 58, 59, 60, 61, 62, 63, 64, 65, 66, 67, 68, 69, 70, 71, 72, 73, 74, 75, 76, 77, 78, 79, 80, 81, 82, 83, 84, 85, 86, 87, 88, 89, 90, 91, 92, 93, 94, 95, 96, 97, 98, 99, ...]\n",
      "\n",
      "[2260701 rows x 0 columns]\n"
     ]
    }
   ],
   "source": [
    "# Check for null values in each column\n",
    "null_columns = cidf.columns[cidf.isnull().any()]\n",
    "\n",
    "# Get the names of columns with null values\n",
    "columns_with_null = cidf[null_columns]\n",
    "\n",
    "print(\"Columns with null values:\")\n",
    "print(columns_with_null)"
   ]
  },
  {
   "cell_type": "code",
   "execution_count": 50,
   "metadata": {
    "execution": {
     "iopub.execute_input": "2023-09-15T05:04:08.440096Z",
     "iopub.status.busy": "2023-09-15T05:04:08.439778Z",
     "iopub.status.idle": "2023-09-15T05:04:11.568911Z",
     "shell.execute_reply": "2023-09-15T05:04:11.568089Z",
     "shell.execute_reply.started": "2023-09-15T05:04:08.440067Z"
    }
   },
   "outputs": [
    {
     "data": {
      "text/plain": [
       "((1582490, 103), (678211, 103))"
      ]
     },
     "execution_count": 50,
     "metadata": {},
     "output_type": "execute_result"
    }
   ],
   "source": [
    "X = cidf.drop(['loan_status'], axis=1)\n",
    "y = cidf['loan_status'] # Only survived goes to y\n",
    "\n",
    "\n",
    "X_train, X_test, y_train, y_test = train_test_split(\n",
    "    X,y , # target\n",
    "    test_size=0.3,  # percentage of obs in test set\n",
    "    random_state=0,\n",
    ")  # seed to ensure reproducibility\n",
    "\n",
    "X_train.shape, X_test.shape"
   ]
  },
  {
   "cell_type": "code",
   "execution_count": 51,
   "metadata": {
    "execution": {
     "iopub.execute_input": "2023-09-15T05:04:11.570451Z",
     "iopub.status.busy": "2023-09-15T05:04:11.570118Z",
     "iopub.status.idle": "2023-09-15T05:04:14.482175Z",
     "shell.execute_reply": "2023-09-15T05:04:14.481128Z",
     "shell.execute_reply.started": "2023-09-15T05:04:11.570422Z"
    }
   },
   "outputs": [],
   "source": [
    "from sklearn.preprocessing import StandardScaler\n",
    "\n",
    "scaler = StandardScaler()\n",
    "X_train_scaled = scaler.fit_transform(X_train)"
   ]
  },
  {
   "cell_type": "code",
   "execution_count": 52,
   "metadata": {
    "execution": {
     "iopub.execute_input": "2023-09-15T05:04:14.483632Z",
     "iopub.status.busy": "2023-09-15T05:04:14.483347Z",
     "iopub.status.idle": "2023-09-15T05:04:14.487617Z",
     "shell.execute_reply": "2023-09-15T05:04:14.486877Z",
     "shell.execute_reply.started": "2023-09-15T05:04:14.483601Z"
    }
   },
   "outputs": [],
   "source": [
    "logistic_model = LogisticRegression(max_iter=1000)"
   ]
  },
  {
   "cell_type": "code",
   "execution_count": 53,
   "metadata": {
    "execution": {
     "iopub.execute_input": "2023-09-15T05:04:14.489138Z",
     "iopub.status.busy": "2023-09-15T05:04:14.488846Z",
     "iopub.status.idle": "2023-09-15T05:34:29.882152Z",
     "shell.execute_reply": "2023-09-15T05:34:29.881082Z",
     "shell.execute_reply.started": "2023-09-15T05:04:14.489111Z"
    }
   },
   "outputs": [],
   "source": [
    "from sklearn.ensemble import RandomForestClassifier\n",
    "\n",
    "# Create a Random Forest Classifier model\n",
    "random_forest_model = RandomForestClassifier(n_estimators=100, random_state=0)\n",
    "\n",
    "# Fit the model to the training data\n",
    "random_forest_model.fit(X_train, y_train)\n",
    "\n",
    "# Predict using the trained model on the test data\n",
    "y_pred = random_forest_model.predict(X_test)\n",
    "\n",
    "# You can now evaluate the performance of the model using classification metrics."
   ]
  },
  {
   "cell_type": "code",
   "execution_count": 54,
   "metadata": {
    "execution": {
     "iopub.execute_input": "2023-09-15T05:34:29.883730Z",
     "iopub.status.busy": "2023-09-15T05:34:29.883436Z",
     "iopub.status.idle": "2023-09-15T05:34:32.062797Z",
     "shell.execute_reply": "2023-09-15T05:34:32.061827Z",
     "shell.execute_reply.started": "2023-09-15T05:34:29.883703Z"
    }
   },
   "outputs": [
    {
     "name": "stdout",
     "output_type": "stream",
     "text": [
      "Accuracy: 0.9837793842919091\n",
      "Classification Report:\n",
      "               precision    recall  f1-score   support\n",
      "\n",
      "         0.0       0.99      1.00      1.00    323297\n",
      "         1.0       0.97      0.99      0.98    263719\n",
      "         2.0       0.76      0.18      0.29     10135\n",
      "         3.0       1.00      0.99      1.00     81060\n",
      "\n",
      "    accuracy                           0.98    678211\n",
      "   macro avg       0.93      0.79      0.82    678211\n",
      "weighted avg       0.98      0.98      0.98    678211\n",
      "\n",
      "Confusion Matrix:\n",
      " [[323287      0      0     10]\n",
      " [  1321 261823    575      0]\n",
      " [    55   8255   1825      0]\n",
      " [   774      8      3  80275]]\n"
     ]
    }
   ],
   "source": [
    "from sklearn.metrics import accuracy_score, classification_report, confusion_matrix\n",
    "\n",
    "# Calculate accuracy\n",
    "accuracy = accuracy_score(y_test, y_pred)\n",
    "print(\"Accuracy:\", accuracy)\n",
    "\n",
    "# Generate a classification report\n",
    "class_report = classification_report(y_test, y_pred)\n",
    "print(\"Classification Report:\\n\", class_report)\n",
    "\n",
    "# Generate a confusion matrix\n",
    "conf_matrix = confusion_matrix(y_test, y_pred)\n",
    "print(\"Confusion Matrix:\\n\", conf_matrix)"
   ]
  },
  {
   "cell_type": "code",
   "execution_count": 55,
   "metadata": {
    "execution": {
     "iopub.execute_input": "2023-09-15T05:34:32.064288Z",
     "iopub.status.busy": "2023-09-15T05:34:32.063964Z",
     "iopub.status.idle": "2023-09-15T05:54:00.102181Z",
     "shell.execute_reply": "2023-09-15T05:54:00.101166Z",
     "shell.execute_reply.started": "2023-09-15T05:34:32.064242Z"
    }
   },
   "outputs": [
    {
     "name": "stdout",
     "output_type": "stream",
     "text": [
      "Average Cross-Validation Accuracy: 0.9703145043570576\n"
     ]
    }
   ],
   "source": [
    "import pandas as pd\n",
    "from sklearn.model_selection import KFold\n",
    "from sklearn.tree import DecisionTreeClassifier\n",
    "from sklearn.metrics import accuracy_score\n",
    "\n",
    "# Assuming you have your X_train and y_train from your previous code\n",
    "\n",
    "# Create a Decision Tree Classifier\n",
    "decision_tree_model = DecisionTreeClassifier()\n",
    "\n",
    "# Define the number of splits for K-Fold Cross-Validation\n",
    "k = 5  # You can adjust this value as needed\n",
    "\n",
    "# Initialize K-Fold Cross-Validation\n",
    "kf = KFold(n_splits=k, shuffle=True, random_state=0)\n",
    "\n",
    "# Lists to store cross-validation scores\n",
    "cross_val_scores = []\n",
    "\n",
    "# Perform K-Fold Cross-Validation\n",
    "for train_index, val_index in kf.split(X_train):\n",
    "    X_train_fold, X_val_fold = X_train.iloc[train_index], X_train.iloc[val_index]\n",
    "    y_train_fold, y_val_fold = y_train.iloc[train_index], y_train.iloc[val_index]\n",
    "    \n",
    "    # Fit the Decision Tree model on the training fold\n",
    "    decision_tree_model.fit(X_train_fold, y_train_fold)\n",
    "    \n",
    "    # Make predictions on the validation fold\n",
    "    y_val_pred = decision_tree_model.predict(X_val_fold)\n",
    "    \n",
    "    # Calculate accuracy for this fold\n",
    "    fold_accuracy = accuracy_score(y_val_fold, y_val_pred)\n",
    "    \n",
    "    # Store the accuracy in the list of cross-validation scores\n",
    "    cross_val_scores.append(fold_accuracy)\n",
    "\n",
    "# Calculate and print the average accuracy across all folds\n",
    "average_accuracy = sum(cross_val_scores) / k\n",
    "print(\"Average Cross-Validation Accuracy:\", average_accuracy)"
   ]
  },
  {
   "cell_type": "code",
   "execution_count": 56,
   "metadata": {
    "execution": {
     "iopub.execute_input": "2023-09-15T05:54:00.103846Z",
     "iopub.status.busy": "2023-09-15T05:54:00.103501Z",
     "iopub.status.idle": "2023-09-15T05:54:21.492792Z",
     "shell.execute_reply": "2023-09-15T05:54:21.491925Z",
     "shell.execute_reply.started": "2023-09-15T05:54:00.103814Z"
    }
   },
   "outputs": [
    {
     "name": "stdout",
     "output_type": "stream",
     "text": [
      "Average Cross-Validation Accuracy: 0.9288715884460566\n"
     ]
    }
   ],
   "source": [
    "import pandas as pd\n",
    "from sklearn.model_selection import KFold\n",
    "from sklearn.naive_bayes import GaussianNB\n",
    "from sklearn.metrics import accuracy_score\n",
    "\n",
    "# Assuming you have your X_train and y_train from your previous code\n",
    "\n",
    "# Create a Gaussian Naive Bayes Classifier\n",
    "naive_bayes_model = GaussianNB()\n",
    "\n",
    "# Define the number of splits for K-Fold Cross-Validation\n",
    "k = 5  # You can adjust this value as needed\n",
    "\n",
    "# Initialize K-Fold Cross-Validation\n",
    "kf = KFold(n_splits=k, shuffle=True, random_state=0)\n",
    "\n",
    "# Lists to store cross-validation scores\n",
    "cross_val_scores = []\n",
    "\n",
    "# Perform K-Fold Cross-Validation\n",
    "for train_index, val_index in kf.split(X_train):\n",
    "    X_train_fold, X_val_fold = X_train.iloc[train_index], X_train.iloc[val_index]\n",
    "    y_train_fold, y_val_fold = y_train.iloc[train_index], y_train.iloc[val_index]\n",
    "    \n",
    "    # Fit the Naive Bayes model on the training fold\n",
    "    naive_bayes_model.fit(X_train_fold, y_train_fold)\n",
    "    \n",
    "    # Make predictions on the validation fold\n",
    "    y_val_pred = naive_bayes_model.predict(X_val_fold)\n",
    "    \n",
    "    # Calculate accuracy for this fold\n",
    "    fold_accuracy = accuracy_score(y_val_fold, y_val_pred)\n",
    "    \n",
    "    # Store the accuracy in the list of cross-validation scores\n",
    "    cross_val_scores.append(fold_accuracy)\n",
    "\n",
    "# Calculate and print the average accuracy across all folds\n",
    "average_accuracy = sum(cross_val_scores) / k\n",
    "print(\"Average Cross-Validation Accuracy:\", average_accuracy)"
   ]
  },
  {
   "cell_type": "code",
   "execution_count": 57,
   "metadata": {
    "execution": {
     "iopub.execute_input": "2023-09-15T05:54:21.494273Z",
     "iopub.status.busy": "2023-09-15T05:54:21.493968Z",
     "iopub.status.idle": "2023-09-15T05:54:21.499724Z",
     "shell.execute_reply": "2023-09-15T05:54:21.498977Z",
     "shell.execute_reply.started": "2023-09-15T05:54:21.494245Z"
    }
   },
   "outputs": [],
   "source": [
    "# import pandas as pd\n",
    "# from sklearn.model_selection import KFold\n",
    "# from sklearn.svm import SVC\n",
    "# from sklearn.metrics import accuracy_score\n",
    "\n",
    "# # Assuming you have your X_train and y_train from your previous code\n",
    "\n",
    "# # Create a Support Vector Machine Classifier\n",
    "# svm_model = SVC(kernel='linear', C=1)\n",
    "\n",
    "# # Define the number of splits for K-Fold Cross-Validation\n",
    "# k = 5  # You can adjust this value as needed\n",
    "\n",
    "# # Initialize K-Fold Cross-Validation\n",
    "# kf = KFold(n_splits=k, shuffle=True, random_state=0)\n",
    "\n",
    "# # Lists to store cross-validation scores\n",
    "# cross_val_scores = []\n",
    "\n",
    "# # Perform K-Fold Cross-Validation\n",
    "# for train_index, val_index in kf.split(X_train):\n",
    "#     X_train_fold, X_val_fold = X_train.iloc[train_index], X_train.iloc[val_index]\n",
    "#     y_train_fold, y_val_fold = y_train.iloc[train_index], y_train.iloc[val_index]\n",
    "    \n",
    "#     # Fit the SVM model on the training fold\n",
    "#     svm_model.fit(X_train_fold, y_train_fold)\n",
    "    \n",
    "#     # Make predictions on the validation fold\n",
    "#     y_val_pred = svm_model.predict(X_val_fold)\n",
    "    \n",
    "#     # Calculate accuracy for this fold\n",
    "#     fold_accuracy = accuracy_score(y_val_fold, y_val_pred)\n",
    "    \n",
    "#     # Store the accuracy in the list of cross-validation scores\n",
    "#     cross_val_scores.append(fold_accuracy)\n",
    "\n",
    "# # Calculate and print the average accuracy across all folds\n",
    "# average_accuracy = sum(cross_val_scores) / k\n",
    "# print(\"Average Cross-Validation Accuracy:\", average_accuracy)"
   ]
  },
  {
   "cell_type": "markdown",
   "metadata": {},
   "source": [
    "# Linear Regression"
   ]
  },
  {
   "cell_type": "markdown",
   "metadata": {},
   "source": []
  },
  {
   "cell_type": "markdown",
   "metadata": {},
   "source": [
    "**Target Variable : Interest Rate**"
   ]
  },
  {
   "cell_type": "code",
   "execution_count": 105,
   "metadata": {
    "execution": {
     "iopub.execute_input": "2023-09-15T06:54:26.339257Z",
     "iopub.status.busy": "2023-09-15T06:54:26.338570Z",
     "iopub.status.idle": "2023-09-15T06:54:26.381695Z",
     "shell.execute_reply": "2023-09-15T06:54:26.380710Z",
     "shell.execute_reply.started": "2023-09-15T06:54:26.339218Z"
    }
   },
   "outputs": [
    {
     "data": {
      "text/html": [
       "<div>\n",
       "<style scoped>\n",
       "    .dataframe tbody tr th:only-of-type {\n",
       "        vertical-align: middle;\n",
       "    }\n",
       "\n",
       "    .dataframe tbody tr th {\n",
       "        vertical-align: top;\n",
       "    }\n",
       "\n",
       "    .dataframe thead th {\n",
       "        text-align: right;\n",
       "    }\n",
       "</style>\n",
       "<table border=\"1\" class=\"dataframe\">\n",
       "  <thead>\n",
       "    <tr style=\"text-align: right;\">\n",
       "      <th></th>\n",
       "      <th>pymnt_plan</th>\n",
       "      <th>hardship_flag</th>\n",
       "      <th>debt_settlement_flag</th>\n",
       "      <th>term</th>\n",
       "      <th>grade</th>\n",
       "      <th>sub_grade</th>\n",
       "      <th>emp_length</th>\n",
       "      <th>home_ownership</th>\n",
       "      <th>verification_status</th>\n",
       "      <th>loan_status</th>\n",
       "      <th>...</th>\n",
       "      <th>num_tl_90g_dpd_24m</th>\n",
       "      <th>num_tl_op_past_12m</th>\n",
       "      <th>pct_tl_nvr_dlq</th>\n",
       "      <th>percent_bc_gt_75</th>\n",
       "      <th>pub_rec_bankruptcies</th>\n",
       "      <th>tax_liens</th>\n",
       "      <th>tot_hi_cred_lim</th>\n",
       "      <th>total_bal_ex_mort</th>\n",
       "      <th>total_bc_limit</th>\n",
       "      <th>total_il_high_credit_limit</th>\n",
       "    </tr>\n",
       "  </thead>\n",
       "  <tbody>\n",
       "    <tr>\n",
       "      <th>0</th>\n",
       "      <td>1.0</td>\n",
       "      <td>0.0</td>\n",
       "      <td>2.0</td>\n",
       "      <td>0.0</td>\n",
       "      <td>2.0</td>\n",
       "      <td>13.0</td>\n",
       "      <td>0.0</td>\n",
       "      <td>2.0</td>\n",
       "      <td>2.0</td>\n",
       "      <td>0.0</td>\n",
       "      <td>...</td>\n",
       "      <td>0.0</td>\n",
       "      <td>3.0</td>\n",
       "      <td>76.9</td>\n",
       "      <td>0.0</td>\n",
       "      <td>0.0</td>\n",
       "      <td>0.0</td>\n",
       "      <td>178050.0</td>\n",
       "      <td>7746.0</td>\n",
       "      <td>2400.0</td>\n",
       "      <td>13734.0</td>\n",
       "    </tr>\n",
       "    <tr>\n",
       "      <th>1</th>\n",
       "      <td>1.0</td>\n",
       "      <td>0.0</td>\n",
       "      <td>2.0</td>\n",
       "      <td>0.0</td>\n",
       "      <td>2.0</td>\n",
       "      <td>10.0</td>\n",
       "      <td>0.0</td>\n",
       "      <td>2.0</td>\n",
       "      <td>2.0</td>\n",
       "      <td>0.0</td>\n",
       "      <td>...</td>\n",
       "      <td>0.0</td>\n",
       "      <td>2.0</td>\n",
       "      <td>97.4</td>\n",
       "      <td>7.7</td>\n",
       "      <td>0.0</td>\n",
       "      <td>0.0</td>\n",
       "      <td>314017.0</td>\n",
       "      <td>39475.0</td>\n",
       "      <td>79300.0</td>\n",
       "      <td>24667.0</td>\n",
       "    </tr>\n",
       "    <tr>\n",
       "      <th>2</th>\n",
       "      <td>1.0</td>\n",
       "      <td>0.0</td>\n",
       "      <td>2.0</td>\n",
       "      <td>1.0</td>\n",
       "      <td>1.0</td>\n",
       "      <td>8.0</td>\n",
       "      <td>0.0</td>\n",
       "      <td>2.0</td>\n",
       "      <td>2.0</td>\n",
       "      <td>0.0</td>\n",
       "      <td>...</td>\n",
       "      <td>0.0</td>\n",
       "      <td>0.0</td>\n",
       "      <td>100.0</td>\n",
       "      <td>50.0</td>\n",
       "      <td>0.0</td>\n",
       "      <td>0.0</td>\n",
       "      <td>218418.0</td>\n",
       "      <td>18696.0</td>\n",
       "      <td>6200.0</td>\n",
       "      <td>14877.0</td>\n",
       "    </tr>\n",
       "    <tr>\n",
       "      <th>3</th>\n",
       "      <td>1.0</td>\n",
       "      <td>0.0</td>\n",
       "      <td>2.0</td>\n",
       "      <td>1.0</td>\n",
       "      <td>2.0</td>\n",
       "      <td>14.0</td>\n",
       "      <td>0.0</td>\n",
       "      <td>2.0</td>\n",
       "      <td>1.0</td>\n",
       "      <td>1.0</td>\n",
       "      <td>...</td>\n",
       "      <td>0.0</td>\n",
       "      <td>1.0</td>\n",
       "      <td>100.0</td>\n",
       "      <td>0.0</td>\n",
       "      <td>0.0</td>\n",
       "      <td>0.0</td>\n",
       "      <td>381215.0</td>\n",
       "      <td>52226.0</td>\n",
       "      <td>62500.0</td>\n",
       "      <td>18000.0</td>\n",
       "    </tr>\n",
       "    <tr>\n",
       "      <th>4</th>\n",
       "      <td>1.0</td>\n",
       "      <td>0.0</td>\n",
       "      <td>2.0</td>\n",
       "      <td>1.0</td>\n",
       "      <td>5.0</td>\n",
       "      <td>25.0</td>\n",
       "      <td>7.0</td>\n",
       "      <td>2.0</td>\n",
       "      <td>1.0</td>\n",
       "      <td>0.0</td>\n",
       "      <td>...</td>\n",
       "      <td>0.0</td>\n",
       "      <td>4.0</td>\n",
       "      <td>96.6</td>\n",
       "      <td>60.0</td>\n",
       "      <td>0.0</td>\n",
       "      <td>0.0</td>\n",
       "      <td>439570.0</td>\n",
       "      <td>95768.0</td>\n",
       "      <td>20300.0</td>\n",
       "      <td>88097.0</td>\n",
       "    </tr>\n",
       "  </tbody>\n",
       "</table>\n",
       "<p>5 rows × 104 columns</p>\n",
       "</div>"
      ],
      "text/plain": [
       "   pymnt_plan  hardship_flag  debt_settlement_flag  term  grade  sub_grade  \\\n",
       "0         1.0            0.0                   2.0   0.0    2.0       13.0   \n",
       "1         1.0            0.0                   2.0   0.0    2.0       10.0   \n",
       "2         1.0            0.0                   2.0   1.0    1.0        8.0   \n",
       "3         1.0            0.0                   2.0   1.0    2.0       14.0   \n",
       "4         1.0            0.0                   2.0   1.0    5.0       25.0   \n",
       "\n",
       "   emp_length  home_ownership  verification_status  loan_status  ...  \\\n",
       "0         0.0             2.0                  2.0          0.0  ...   \n",
       "1         0.0             2.0                  2.0          0.0  ...   \n",
       "2         0.0             2.0                  2.0          0.0  ...   \n",
       "3         0.0             2.0                  1.0          1.0  ...   \n",
       "4         7.0             2.0                  1.0          0.0  ...   \n",
       "\n",
       "   num_tl_90g_dpd_24m  num_tl_op_past_12m  pct_tl_nvr_dlq  percent_bc_gt_75  \\\n",
       "0                 0.0                 3.0            76.9               0.0   \n",
       "1                 0.0                 2.0            97.4               7.7   \n",
       "2                 0.0                 0.0           100.0              50.0   \n",
       "3                 0.0                 1.0           100.0               0.0   \n",
       "4                 0.0                 4.0            96.6              60.0   \n",
       "\n",
       "   pub_rec_bankruptcies  tax_liens  tot_hi_cred_lim  total_bal_ex_mort  \\\n",
       "0                   0.0        0.0         178050.0             7746.0   \n",
       "1                   0.0        0.0         314017.0            39475.0   \n",
       "2                   0.0        0.0         218418.0            18696.0   \n",
       "3                   0.0        0.0         381215.0            52226.0   \n",
       "4                   0.0        0.0         439570.0            95768.0   \n",
       "\n",
       "   total_bc_limit  total_il_high_credit_limit  \n",
       "0          2400.0                     13734.0  \n",
       "1         79300.0                     24667.0  \n",
       "2          6200.0                     14877.0  \n",
       "3         62500.0                     18000.0  \n",
       "4         20300.0                     88097.0  \n",
       "\n",
       "[5 rows x 104 columns]"
      ]
     },
     "execution_count": 105,
     "metadata": {},
     "output_type": "execute_result"
    }
   ],
   "source": [
    "cidf.head()"
   ]
  },
  {
   "cell_type": "code",
   "execution_count": 106,
   "metadata": {
    "execution": {
     "iopub.execute_input": "2023-09-15T06:54:26.384017Z",
     "iopub.status.busy": "2023-09-15T06:54:26.383692Z",
     "iopub.status.idle": "2023-09-15T06:54:26.389103Z",
     "shell.execute_reply": "2023-09-15T06:54:26.388193Z",
     "shell.execute_reply.started": "2023-09-15T06:54:26.383988Z"
    }
   },
   "outputs": [],
   "source": [
    "#Importing all the necessary libraries\n",
    "import numpy as np\n",
    "import pandas as pd\n",
    "import matplotlib.pyplot as plt\n",
    "# Supress Warnings\n",
    "import warnings \n",
    "warnings.filterwarnings('ignore')"
   ]
  },
  {
   "cell_type": "code",
   "execution_count": 107,
   "metadata": {
    "execution": {
     "iopub.execute_input": "2023-09-15T06:54:26.390528Z",
     "iopub.status.busy": "2023-09-15T06:54:26.390215Z",
     "iopub.status.idle": "2023-09-15T06:54:26.404937Z",
     "shell.execute_reply": "2023-09-15T06:54:26.403850Z",
     "shell.execute_reply.started": "2023-09-15T06:54:26.390501Z"
    }
   },
   "outputs": [
    {
     "data": {
      "text/plain": [
       "['pymnt_plan',\n",
       " 'hardship_flag',\n",
       " 'debt_settlement_flag',\n",
       " 'term',\n",
       " 'grade',\n",
       " 'sub_grade',\n",
       " 'emp_length',\n",
       " 'home_ownership',\n",
       " 'verification_status',\n",
       " 'loan_status',\n",
       " 'hardship_reason_DISABILITY',\n",
       " 'hardship_reason_DIVORCE',\n",
       " 'hardship_reason_EXCESSIVE_OBLIGATIONS',\n",
       " 'hardship_reason_FAMILY_DEATH',\n",
       " 'hardship_reason_INCOME_CURTAILMENT',\n",
       " 'hardship_reason_MEDICAL',\n",
       " 'hardship_reason_NATURAL_DISASTER',\n",
       " 'hardship_reason_REDUCED_HOURS',\n",
       " 'hardship_reason_UNEMPLOYMENT',\n",
       " 'disbursement_method_Cash',\n",
       " 'disbursement_method_DirectPay',\n",
       " 'loan_amnt',\n",
       " 'funded_amnt',\n",
       " 'funded_amnt_inv',\n",
       " 'int_rate',\n",
       " 'installment',\n",
       " 'annual_inc',\n",
       " 'dti',\n",
       " 'delinq_2yrs',\n",
       " 'fico_range_low',\n",
       " 'fico_range_high',\n",
       " 'inq_last_6mths',\n",
       " 'mths_since_last_delinq',\n",
       " 'open_acc',\n",
       " 'pub_rec',\n",
       " 'revol_bal',\n",
       " 'revol_util',\n",
       " 'total_acc',\n",
       " 'out_prncp',\n",
       " 'out_prncp_inv',\n",
       " 'total_pymnt',\n",
       " 'total_pymnt_inv',\n",
       " 'total_rec_prncp',\n",
       " 'total_rec_int',\n",
       " 'total_rec_late_fee',\n",
       " 'recoveries',\n",
       " 'collection_recovery_fee',\n",
       " 'last_pymnt_amnt',\n",
       " 'last_fico_range_high',\n",
       " 'last_fico_range_low',\n",
       " 'collections_12_mths_ex_med',\n",
       " 'mths_since_last_major_derog',\n",
       " 'policy_code',\n",
       " 'acc_now_delinq',\n",
       " 'tot_coll_amt',\n",
       " 'tot_cur_bal',\n",
       " 'open_il_12m',\n",
       " 'open_il_24m',\n",
       " 'mths_since_rcnt_il',\n",
       " 'total_bal_il',\n",
       " 'il_util',\n",
       " 'open_rv_12m',\n",
       " 'open_rv_24m',\n",
       " 'max_bal_bc',\n",
       " 'total_rev_hi_lim',\n",
       " 'inq_fi',\n",
       " 'total_cu_tl',\n",
       " 'acc_open_past_24mths',\n",
       " 'avg_cur_bal',\n",
       " 'bc_open_to_buy',\n",
       " 'bc_util',\n",
       " 'chargeoff_within_12_mths',\n",
       " 'delinq_amnt',\n",
       " 'mo_sin_old_il_acct',\n",
       " 'mo_sin_old_rev_tl_op',\n",
       " 'mo_sin_rcnt_rev_tl_op',\n",
       " 'mo_sin_rcnt_tl',\n",
       " 'mort_acc',\n",
       " 'mths_since_recent_bc',\n",
       " 'mths_since_recent_bc_dlq',\n",
       " 'mths_since_recent_inq',\n",
       " 'mths_since_recent_revol_delinq',\n",
       " 'num_accts_ever_120_pd',\n",
       " 'num_actv_bc_tl',\n",
       " 'num_actv_rev_tl',\n",
       " 'num_bc_sats',\n",
       " 'num_bc_tl',\n",
       " 'num_il_tl',\n",
       " 'num_op_rev_tl',\n",
       " 'num_rev_accts',\n",
       " 'num_rev_tl_bal_gt_0',\n",
       " 'num_sats',\n",
       " 'num_tl_120dpd_2m',\n",
       " 'num_tl_30dpd',\n",
       " 'num_tl_90g_dpd_24m',\n",
       " 'num_tl_op_past_12m',\n",
       " 'pct_tl_nvr_dlq',\n",
       " 'percent_bc_gt_75',\n",
       " 'pub_rec_bankruptcies',\n",
       " 'tax_liens',\n",
       " 'tot_hi_cred_lim',\n",
       " 'total_bal_ex_mort',\n",
       " 'total_bc_limit',\n",
       " 'total_il_high_credit_limit']"
      ]
     },
     "execution_count": 107,
     "metadata": {},
     "output_type": "execute_result"
    }
   ],
   "source": [
    "list(cidf.columns)"
   ]
  },
  {
   "cell_type": "code",
   "execution_count": 108,
   "metadata": {
    "execution": {
     "iopub.execute_input": "2023-09-15T06:54:26.407533Z",
     "iopub.status.busy": "2023-09-15T06:54:26.407124Z",
     "iopub.status.idle": "2023-09-15T06:54:27.106582Z",
     "shell.execute_reply": "2023-09-15T06:54:27.105533Z",
     "shell.execute_reply.started": "2023-09-15T06:54:26.407502Z"
    }
   },
   "outputs": [],
   "source": [
    "cidft = cidf[['pymnt_plan',\n",
    " 'hardship_flag',\n",
    " 'debt_settlement_flag',\n",
    " 'term',\n",
    " 'grade',\n",
    " 'sub_grade',\n",
    " 'emp_length',\n",
    " 'home_ownership',\n",
    " 'verification_status',\n",
    " 'loan_status',\n",
    " 'hardship_reason_DISABILITY',\n",
    " 'hardship_reason_DIVORCE',\n",
    " 'hardship_reason_EXCESSIVE_OBLIGATIONS',\n",
    " 'hardship_reason_FAMILY_DEATH',\n",
    " 'hardship_reason_INCOME_CURTAILMENT',\n",
    " 'hardship_reason_MEDICAL',\n",
    " 'hardship_reason_NATURAL_DISASTER',\n",
    " 'hardship_reason_REDUCED_HOURS',\n",
    " 'hardship_reason_UNEMPLOYMENT',\n",
    " 'disbursement_method_Cash',\n",
    " 'disbursement_method_DirectPay',\n",
    " 'loan_amnt',\n",
    " 'funded_amnt',\n",
    " 'funded_amnt_inv',\n",
    " 'installment',\n",
    " 'annual_inc',\n",
    " 'dti',\n",
    " 'delinq_2yrs',\n",
    " 'fico_range_low',\n",
    " 'fico_range_high',\n",
    " 'inq_last_6mths',\n",
    " 'mths_since_last_delinq',\n",
    " 'open_acc',\n",
    " 'pub_rec',\n",
    " 'revol_bal',\n",
    " 'revol_util',\n",
    " 'total_acc',\n",
    " 'out_prncp',\n",
    " 'out_prncp_inv',\n",
    " 'total_pymnt',\n",
    " 'total_pymnt_inv',\n",
    " 'total_rec_prncp',\n",
    " 'total_rec_int',\n",
    " 'total_rec_late_fee',\n",
    " 'recoveries',\n",
    " 'collection_recovery_fee',\n",
    " 'last_pymnt_amnt',\n",
    " 'last_fico_range_high',\n",
    " 'last_fico_range_low',\n",
    " 'collections_12_mths_ex_med',\n",
    " 'mths_since_last_major_derog',\n",
    " 'policy_code',\n",
    " 'acc_now_delinq',\n",
    " 'tot_coll_amt',\n",
    " 'tot_cur_bal',\n",
    " 'open_il_12m',\n",
    " 'open_il_24m',\n",
    " 'mths_since_rcnt_il',\n",
    " 'total_bal_il',\n",
    " 'il_util',\n",
    " 'open_rv_12m',\n",
    " 'open_rv_24m',\n",
    " 'max_bal_bc',\n",
    " 'total_rev_hi_lim',\n",
    " 'inq_fi',\n",
    " 'total_cu_tl',\n",
    " 'acc_open_past_24mths',\n",
    " 'avg_cur_bal',\n",
    " 'bc_open_to_buy',\n",
    " 'bc_util',\n",
    " 'chargeoff_within_12_mths',\n",
    " 'delinq_amnt',\n",
    " 'mo_sin_old_il_acct',\n",
    " 'mo_sin_old_rev_tl_op',\n",
    " 'mo_sin_rcnt_rev_tl_op',\n",
    " 'mo_sin_rcnt_tl',\n",
    " 'mort_acc',\n",
    " 'mths_since_recent_bc',\n",
    " 'mths_since_recent_bc_dlq',\n",
    " 'mths_since_recent_inq',\n",
    " 'mths_since_recent_revol_delinq',\n",
    " 'num_accts_ever_120_pd',\n",
    " 'num_actv_bc_tl',\n",
    " 'num_actv_rev_tl',\n",
    " 'num_bc_sats',\n",
    " 'num_bc_tl',\n",
    " 'num_il_tl',\n",
    " 'num_op_rev_tl',\n",
    " 'num_rev_accts',\n",
    " 'num_rev_tl_bal_gt_0',\n",
    " 'num_sats',\n",
    " 'num_tl_120dpd_2m',\n",
    " 'num_tl_30dpd',\n",
    " 'num_tl_90g_dpd_24m',\n",
    " 'num_tl_op_past_12m',\n",
    " 'pct_tl_nvr_dlq',\n",
    " 'percent_bc_gt_75',\n",
    " 'pub_rec_bankruptcies',\n",
    " 'tax_liens',\n",
    " 'tot_hi_cred_lim',\n",
    " 'total_bal_ex_mort',\n",
    " 'total_bc_limit',\n",
    " 'total_il_high_credit_limit']]"
   ]
  },
  {
   "cell_type": "code",
   "execution_count": 109,
   "metadata": {
    "execution": {
     "iopub.execute_input": "2023-09-15T06:54:27.108129Z",
     "iopub.status.busy": "2023-09-15T06:54:27.107819Z",
     "iopub.status.idle": "2023-09-15T06:54:27.114019Z",
     "shell.execute_reply": "2023-09-15T06:54:27.113183Z",
     "shell.execute_reply.started": "2023-09-15T06:54:27.108101Z"
    }
   },
   "outputs": [
    {
     "data": {
      "text/plain": [
       "104"
      ]
     },
     "execution_count": 109,
     "metadata": {},
     "output_type": "execute_result"
    }
   ],
   "source": [
    "len(cidf.columns)"
   ]
  },
  {
   "cell_type": "code",
   "execution_count": 110,
   "metadata": {
    "execution": {
     "iopub.execute_input": "2023-09-15T06:54:27.115534Z",
     "iopub.status.busy": "2023-09-15T06:54:27.115129Z",
     "iopub.status.idle": "2023-09-15T06:54:27.126226Z",
     "shell.execute_reply": "2023-09-15T06:54:27.125398Z",
     "shell.execute_reply.started": "2023-09-15T06:54:27.115505Z"
    }
   },
   "outputs": [
    {
     "data": {
      "text/plain": [
       "103"
      ]
     },
     "execution_count": 110,
     "metadata": {},
     "output_type": "execute_result"
    }
   ],
   "source": [
    "len(cidft.columns)"
   ]
  },
  {
   "cell_type": "code",
   "execution_count": 111,
   "metadata": {
    "execution": {
     "iopub.execute_input": "2023-09-15T06:54:27.127650Z",
     "iopub.status.busy": "2023-09-15T06:54:27.127333Z",
     "iopub.status.idle": "2023-09-15T06:54:30.352517Z",
     "shell.execute_reply": "2023-09-15T06:54:30.351683Z",
     "shell.execute_reply.started": "2023-09-15T06:54:27.127616Z"
    }
   },
   "outputs": [
    {
     "data": {
      "text/plain": [
       "((1582490, 103), (678211, 103))"
      ]
     },
     "execution_count": 111,
     "metadata": {},
     "output_type": "execute_result"
    }
   ],
   "source": [
    "a = cidf.drop([\"int_rate\"], axis=1)  #moving all the x vars except Cabin into X \n",
    "b = cidf['int_rate'] # Only survived goes to y\n",
    "\n",
    "\n",
    "a_train, a_test, b_train, b_test = train_test_split(\n",
    "    a,b , # target\n",
    "    test_size=0.3,  # percentage of obs in test set\n",
    "    random_state=0,\n",
    ")  # seed to ensure reproducibility\n",
    "\n",
    "a_train.shape, a_test.shape"
   ]
  },
  {
   "cell_type": "code",
   "execution_count": 112,
   "metadata": {
    "execution": {
     "iopub.execute_input": "2023-09-15T06:54:30.355578Z",
     "iopub.status.busy": "2023-09-15T06:54:30.355127Z",
     "iopub.status.idle": "2023-09-15T06:54:30.359528Z",
     "shell.execute_reply": "2023-09-15T06:54:30.358770Z",
     "shell.execute_reply.started": "2023-09-15T06:54:30.355547Z"
    }
   },
   "outputs": [],
   "source": [
    "import statsmodels.api as sm"
   ]
  },
  {
   "cell_type": "code",
   "execution_count": 113,
   "metadata": {
    "execution": {
     "iopub.execute_input": "2023-09-15T06:54:30.360828Z",
     "iopub.status.busy": "2023-09-15T06:54:30.360550Z",
     "iopub.status.idle": "2023-09-15T06:54:46.514935Z",
     "shell.execute_reply": "2023-09-15T06:54:46.513580Z",
     "shell.execute_reply.started": "2023-09-15T06:54:30.360804Z"
    }
   },
   "outputs": [],
   "source": [
    "# Add a constant to get an intercept\n",
    "a_train_sm = sm.add_constant(a_train)\n",
    "# Fit the resgression line using 'OLS'\n",
    "lr = sm.OLS(b_train, a_train_sm).fit()"
   ]
  },
  {
   "cell_type": "code",
   "execution_count": 114,
   "metadata": {
    "execution": {
     "iopub.execute_input": "2023-09-15T06:54:46.516494Z",
     "iopub.status.busy": "2023-09-15T06:54:46.516141Z",
     "iopub.status.idle": "2023-09-15T06:54:46.527514Z",
     "shell.execute_reply": "2023-09-15T06:54:46.526325Z",
     "shell.execute_reply.started": "2023-09-15T06:54:46.516463Z"
    }
   },
   "outputs": [
    {
     "data": {
      "text/plain": [
       "pymnt_plan                   -5.014641e-03\n",
       "hardship_flag                 1.207027e-01\n",
       "debt_settlement_flag         -6.627415e-03\n",
       "term                          8.843923e-01\n",
       "grade                         1.333838e-01\n",
       "                                  ...     \n",
       "tax_liens                     7.861813e-02\n",
       "tot_hi_cred_lim              -5.050100e-07\n",
       "total_bal_ex_mort            -5.768202e-07\n",
       "total_bc_limit                2.642684e-06\n",
       "total_il_high_credit_limit   -2.402855e-07\n",
       "Length: 103, dtype: float64"
      ]
     },
     "execution_count": 114,
     "metadata": {},
     "output_type": "execute_result"
    }
   ],
   "source": [
    "lr.params"
   ]
  },
  {
   "cell_type": "code",
   "execution_count": 115,
   "metadata": {
    "execution": {
     "iopub.execute_input": "2023-09-15T06:54:46.529024Z",
     "iopub.status.busy": "2023-09-15T06:54:46.528727Z",
     "iopub.status.idle": "2023-09-15T06:54:46.891967Z",
     "shell.execute_reply": "2023-09-15T06:54:46.890932Z",
     "shell.execute_reply.started": "2023-09-15T06:54:46.528998Z"
    }
   },
   "outputs": [
    {
     "name": "stdout",
     "output_type": "stream",
     "text": [
      "                            OLS Regression Results                            \n",
      "==============================================================================\n",
      "Dep. Variable:               int_rate   R-squared:                       0.963\n",
      "Model:                            OLS   Adj. R-squared:                  0.963\n",
      "Method:                 Least Squares   F-statistic:                 4.099e+05\n",
      "Date:                Fri, 15 Sep 2023   Prob (F-statistic):               0.00\n",
      "Time:                        06:54:46   Log-Likelihood:            -2.1329e+06\n",
      "No. Observations:             1582490   AIC:                         4.266e+06\n",
      "Df Residuals:                 1582389   BIC:                         4.267e+06\n",
      "Df Model:                         100                                         \n",
      "Covariance Type:            nonrobust                                         \n",
      "=========================================================================================================\n",
      "                                            coef    std err          t      P>|t|      [0.025      0.975]\n",
      "---------------------------------------------------------------------------------------------------------\n",
      "pymnt_plan                               -0.0050      0.088     -0.057      0.954      -0.177       0.167\n",
      "hardship_flag                             0.1207      0.077      1.571      0.116      -0.030       0.271\n",
      "debt_settlement_flag                     -0.0066      0.007     -0.974      0.330      -0.020       0.007\n",
      "term                                      0.8844      0.004    214.797      0.000       0.876       0.892\n",
      "grade                                     0.1334      0.003     50.966      0.000       0.128       0.139\n",
      "sub_grade                                 0.7111      0.001   1277.551      0.000       0.710       0.712\n",
      "emp_length                               -0.0003      0.000     -1.408      0.159      -0.001       0.000\n",
      "home_ownership                            0.0052      0.001      4.200      0.000       0.003       0.008\n",
      "verification_status                      -0.0307      0.001    -29.911      0.000      -0.033      -0.029\n",
      "loan_status                              -0.0838      0.001    -59.658      0.000      -0.087      -0.081\n",
      "hardship_reason_DISABILITY                0.3626      0.082      4.448      0.000       0.203       0.522\n",
      "hardship_reason_DIVORCE                   0.2210      0.068      3.250      0.001       0.088       0.354\n",
      "hardship_reason_EXCESSIVE_OBLIGATIONS     0.2980      0.031      9.548      0.000       0.237       0.359\n",
      "hardship_reason_FAMILY_DEATH              0.4153      0.075      5.560      0.000       0.269       0.562\n",
      "hardship_reason_INCOME_CURTAILMENT        0.3373      0.036      9.452      0.000       0.267       0.407\n",
      "hardship_reason_MEDICAL                   0.2558      0.036      7.142      0.000       0.186       0.326\n",
      "hardship_reason_NATURAL_DISASTER          0.4139      0.023     17.922      0.000       0.369       0.459\n",
      "hardship_reason_REDUCED_HOURS             0.3184      0.045      7.092      0.000       0.230       0.406\n",
      "hardship_reason_UNEMPLOYMENT              0.3214      0.032      9.998      0.000       0.258       0.384\n",
      "disbursement_method_Cash                  1.4595      0.072     20.248      0.000       1.318       1.601\n",
      "disbursement_method_DirectPay             1.4843      0.072     20.586      0.000       1.343       1.626\n",
      "loan_amnt                                -0.0002   3.74e-06    -42.048      0.000      -0.000      -0.000\n",
      "funded_amnt                              -0.0002    6.9e-06    -33.214      0.000      -0.000      -0.000\n",
      "funded_amnt_inv                           0.0002   5.74e-06     36.646      0.000       0.000       0.000\n",
      "installment                               0.0058   1.81e-05    322.742      0.000       0.006       0.006\n",
      "annual_inc                             2.226e-08   9.02e-09      2.469      0.014    4.59e-09    3.99e-08\n",
      "dti                                      -0.0002    5.7e-05     -4.207      0.000      -0.000      -0.000\n",
      "delinq_2yrs                              -0.0265      0.002    -17.513      0.000      -0.029      -0.024\n",
      "fico_range_low                            0.1823      0.053      3.418      0.001       0.078       0.287\n",
      "fico_range_high                          -0.1801      0.053     -3.377      0.001      -0.285      -0.076\n",
      "inq_last_6mths                           -0.0042      0.001     -4.105      0.000      -0.006      -0.002\n",
      "mths_since_last_delinq                    0.0002   7.42e-05      2.614      0.009    4.85e-05       0.000\n",
      "open_acc                                  0.0064      0.001      5.900      0.000       0.004       0.009\n",
      "pub_rec                                  -0.1252      0.004    -31.400      0.000      -0.133      -0.117\n",
      "revol_bal                              3.126e-07   1.04e-07      3.007      0.003    1.09e-07    5.16e-07\n",
      "revol_util                               -0.0014   6.57e-05    -20.878      0.000      -0.002      -0.001\n",
      "total_acc                                 0.0018      0.000      4.492      0.000       0.001       0.003\n",
      "out_prncp                                -0.0011   6.46e-05    -17.411      0.000      -0.001      -0.001\n",
      "out_prncp_inv                             0.0012   6.46e-05     17.899      0.000       0.001       0.001\n",
      "total_pymnt                               0.0002      0.000      0.679      0.497      -0.000       0.001\n",
      "total_pymnt_inv                         8.94e-05   5.55e-06     16.100      0.000    7.85e-05       0.000\n",
      "total_rec_prncp                          -0.0003      0.000     -1.103      0.270      -0.001       0.000\n",
      "total_rec_int                            -0.0003      0.000     -1.115      0.265      -0.001       0.000\n",
      "total_rec_late_fee                       -0.0006      0.000     -2.371      0.018      -0.001      -0.000\n",
      "recoveries                               -0.0002      0.000     -0.655      0.513      -0.001       0.000\n",
      "collection_recovery_fee                  -0.0008   2.32e-05    -33.422      0.000      -0.001      -0.001\n",
      "last_pymnt_amnt                        1.373e-05   2.07e-07     66.282      0.000    1.33e-05    1.41e-05\n",
      "last_fico_range_high                     -0.0001   2.16e-05     -6.094      0.000      -0.000   -8.93e-05\n",
      "last_fico_range_low                     8.71e-05   1.27e-05      6.862      0.000    6.22e-05       0.000\n",
      "collections_12_mths_ex_med               -0.0408      0.005     -8.222      0.000      -0.051      -0.031\n",
      "mths_since_last_major_derog              -0.0003   8.95e-05     -3.414      0.001      -0.000      -0.000\n",
      "policy_code                               2.9438      0.144     20.426      0.000       2.661       3.226\n",
      "acc_now_delinq                           -0.1883      0.025     -7.663      0.000      -0.236      -0.140\n",
      "tot_coll_amt                           2.519e-08   1.09e-07      0.230      0.818   -1.89e-07    2.39e-07\n",
      "tot_cur_bal                            8.311e-07   3.17e-08     26.210      0.000    7.69e-07    8.93e-07\n",
      "open_il_12m                               0.1498      0.002     86.554      0.000       0.146       0.153\n",
      "open_il_24m                               0.0336      0.001     28.705      0.000       0.031       0.036\n",
      "mths_since_rcnt_il                        0.0007   4.16e-05     16.898      0.000       0.001       0.001\n",
      "total_bal_il                           4.237e-07   3.96e-08     10.704      0.000    3.46e-07    5.01e-07\n",
      "il_util                                   0.0005   5.02e-05      9.388      0.000       0.000       0.001\n",
      "open_rv_12m                               0.1055      0.001     73.930      0.000       0.103       0.108\n",
      "open_rv_24m                               0.0298      0.001     35.467      0.000       0.028       0.031\n",
      "max_bal_bc                            -6.762e-06   2.43e-07    -27.851      0.000   -7.24e-06   -6.29e-06\n",
      "total_rev_hi_lim                      -3.805e-07   7.89e-08     -4.822      0.000   -5.35e-07   -2.26e-07\n",
      "inq_fi                                    0.0269      0.001     38.102      0.000       0.025       0.028\n",
      "total_cu_tl                               0.0057      0.000     15.179      0.000       0.005       0.006\n",
      "acc_open_past_24mths                     -0.0279      0.001    -45.087      0.000      -0.029      -0.027\n",
      "avg_cur_bal                           -6.161e-07   1.05e-07     -5.894      0.000   -8.21e-07   -4.11e-07\n",
      "bc_open_to_buy                        -2.124e-06   1.57e-07    -13.527      0.000   -2.43e-06   -1.82e-06\n",
      "bc_util                                   0.0015   7.01e-05     21.290      0.000       0.001       0.002\n",
      "chargeoff_within_12_mths                 -0.0173      0.007     -2.361      0.018      -0.032      -0.003\n",
      "delinq_amnt                           -1.158e-06   1.01e-06     -1.141      0.254   -3.15e-06    8.31e-07\n",
      "mo_sin_old_il_acct                        0.0001   1.62e-05      6.237      0.000    6.94e-05       0.000\n",
      "mo_sin_old_rev_tl_op                     -0.0001   9.44e-06    -13.357      0.000      -0.000      -0.000\n",
      "mo_sin_rcnt_rev_tl_op                    -0.0002    6.6e-05     -2.637      0.008      -0.000   -4.47e-05\n",
      "mo_sin_rcnt_tl                           -0.0005      0.000     -4.541      0.000      -0.001      -0.000\n",
      "mort_acc                                  0.0051      0.001      7.773      0.000       0.004       0.006\n",
      "mths_since_recent_bc                   9.982e-05   3.07e-05      3.247      0.001    3.96e-05       0.000\n",
      "mths_since_recent_bc_dlq                 -0.0003      0.000     -3.240      0.001      -0.001      -0.000\n",
      "mths_since_recent_inq                     0.0033      0.000     21.037      0.000       0.003       0.004\n",
      "mths_since_recent_revol_delinq           -0.0004      0.000     -3.884      0.000      -0.001      -0.000\n",
      "num_accts_ever_120_pd                    -0.0067      0.001     -8.918      0.000      -0.008      -0.005\n",
      "num_actv_bc_tl                           -0.0016      0.001     -1.677      0.093      -0.004       0.000\n",
      "num_actv_rev_tl                           0.0107      0.001      7.743      0.000       0.008       0.013\n",
      "num_bc_sats                              -0.0157      0.001    -20.925      0.000      -0.017      -0.014\n",
      "num_bc_tl                                 0.0235      0.000     49.887      0.000       0.023       0.024\n",
      "num_il_tl                                -0.0009      0.000     -2.169      0.030      -0.002   -8.87e-05\n",
      "num_op_rev_tl                             0.0117      0.001     18.579      0.000       0.011       0.013\n",
      "num_rev_accts                            -0.0117      0.001    -23.400      0.000      -0.013      -0.011\n",
      "num_rev_tl_bal_gt_0                      -0.0076      0.001     -5.224      0.000      -0.010      -0.005\n",
      "num_sats                                 -0.0109      0.001     -9.758      0.000      -0.013      -0.009\n",
      "num_tl_120dpd_2m                          0.0272      0.038      0.716      0.474      -0.047       0.102\n",
      "num_tl_30dpd                             -0.0263      0.028     -0.934      0.350      -0.081       0.029\n",
      "num_tl_90g_dpd_24m                        0.0224      0.002      9.282      0.000       0.018       0.027\n",
      "num_tl_op_past_12m                       -0.0927      0.001    -89.670      0.000      -0.095      -0.091\n",
      "pct_tl_nvr_dlq                           -0.0009      0.000     -7.386      0.000      -0.001      -0.001\n",
      "percent_bc_gt_75                      -5.728e-05   3.97e-05     -1.442      0.149      -0.000    2.06e-05\n",
      "pub_rec_bankruptcies                      0.0991      0.004     22.069      0.000       0.090       0.108\n",
      "tax_liens                                 0.0786      0.005     17.412      0.000       0.070       0.087\n",
      "tot_hi_cred_lim                        -5.05e-07   2.78e-08    -18.195      0.000   -5.59e-07   -4.51e-07\n",
      "total_bal_ex_mort                     -5.768e-07    6.3e-08     -9.156      0.000      -7e-07   -4.53e-07\n",
      "total_bc_limit                         2.643e-06   1.18e-07     22.358      0.000    2.41e-06    2.87e-06\n",
      "total_il_high_credit_limit            -2.403e-07   6.09e-08     -3.943      0.000    -3.6e-07   -1.21e-07\n",
      "==============================================================================\n",
      "Omnibus:                   297272.970   Durbin-Watson:                   1.998\n",
      "Prob(Omnibus):                  0.000   Jarque-Bera (JB):          8052727.176\n",
      "Skew:                          -0.168   Prob(JB):                         0.00\n",
      "Kurtosis:                      14.046   Cond. No.                     1.37e+16\n",
      "==============================================================================\n",
      "\n",
      "Notes:\n",
      "[1] Standard Errors assume that the covariance matrix of the errors is correctly specified.\n",
      "[2] The smallest eigenvalue is 1.04e-15. This might indicate that there are\n",
      "strong multicollinearity problems or that the design matrix is singular.\n"
     ]
    }
   ],
   "source": [
    "print(lr.summary())"
   ]
  },
  {
   "cell_type": "code",
   "execution_count": 116,
   "metadata": {
    "execution": {
     "iopub.execute_input": "2023-09-15T06:54:46.893388Z",
     "iopub.status.busy": "2023-09-15T06:54:46.893053Z",
     "iopub.status.idle": "2023-09-15T06:54:47.977822Z",
     "shell.execute_reply": "2023-09-15T06:54:47.975273Z",
     "shell.execute_reply.started": "2023-09-15T06:54:46.893360Z"
    }
   },
   "outputs": [],
   "source": [
    "# Add a constant to a_test\n",
    "a_test_sm = sm.add_constant(a_test)\n",
    "# Predict the b values corresponding to a_test_sm\n",
    "b_pred = lr.predict(a_test_sm)"
   ]
  },
  {
   "cell_type": "code",
   "execution_count": 117,
   "metadata": {
    "execution": {
     "iopub.execute_input": "2023-09-15T06:54:47.981328Z",
     "iopub.status.busy": "2023-09-15T06:54:47.980641Z",
     "iopub.status.idle": "2023-09-15T06:54:47.997693Z",
     "shell.execute_reply": "2023-09-15T06:54:47.995561Z",
     "shell.execute_reply.started": "2023-09-15T06:54:47.981247Z"
    }
   },
   "outputs": [
    {
     "data": {
      "text/plain": [
       "1517674     6.575027\n",
       "400139     13.085357\n",
       "417017      5.880109\n",
       "531044      9.575433\n",
       "1267530    20.813374\n",
       "dtype: float64"
      ]
     },
     "execution_count": 117,
     "metadata": {},
     "output_type": "execute_result"
    }
   ],
   "source": [
    "b_pred.head()"
   ]
  },
  {
   "cell_type": "code",
   "execution_count": 118,
   "metadata": {
    "execution": {
     "iopub.execute_input": "2023-09-15T06:54:48.001108Z",
     "iopub.status.busy": "2023-09-15T06:54:48.000398Z",
     "iopub.status.idle": "2023-09-15T06:54:48.019263Z",
     "shell.execute_reply": "2023-09-15T06:54:48.016808Z",
     "shell.execute_reply.started": "2023-09-15T06:54:48.001044Z"
    }
   },
   "outputs": [],
   "source": [
    "#Imporitng libraries\n",
    "from sklearn.metrics import mean_squared_error\n",
    "from sklearn.metrics import r2_score"
   ]
  },
  {
   "cell_type": "code",
   "execution_count": 119,
   "metadata": {
    "execution": {
     "iopub.execute_input": "2023-09-15T06:54:48.024273Z",
     "iopub.status.busy": "2023-09-15T06:54:48.023325Z",
     "iopub.status.idle": "2023-09-15T06:54:48.065038Z",
     "shell.execute_reply": "2023-09-15T06:54:48.062860Z",
     "shell.execute_reply.started": "2023-09-15T06:54:48.024189Z"
    }
   },
   "outputs": [
    {
     "name": "stdout",
     "output_type": "stream",
     "text": [
      "RMSE:  0.9350109884636582\n",
      "R-squared:  0.9625966035818829\n"
     ]
    }
   ],
   "source": [
    "#RMSE value\n",
    "print(\"RMSE: \",np.sqrt( mean_squared_error( b_test, b_pred )))\n",
    "#R-squared value\n",
    "print(\"R-squared: \",r2_score( b_test, b_pred ))"
   ]
  }
 ],
 "metadata": {
  "kernelspec": {
   "display_name": "Python 3 (ipykernel)",
   "language": "python",
   "name": "python3"
  },
  "language_info": {
   "codemirror_mode": {
    "name": "ipython",
    "version": 3
   },
   "file_extension": ".py",
   "mimetype": "text/x-python",
   "name": "python",
   "nbconvert_exporter": "python",
   "pygments_lexer": "ipython3",
   "version": "3.10.12"
  }
 },
 "nbformat": 4,
 "nbformat_minor": 4
}
